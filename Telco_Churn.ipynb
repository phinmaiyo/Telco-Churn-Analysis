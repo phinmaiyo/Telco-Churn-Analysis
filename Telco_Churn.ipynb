{
 "cells": [
  {
   "cell_type": "markdown",
   "metadata": {},
   "source": [
    "# Telecommunication Company Churn Analysis-Classification Model\n",
    "## 1. Business Understanding\n",
    "- Customer attrition is one of the biggest expenditures of any organization. Customer churn otherwise known as customer attrition or customer turnover is the percentage of customers that stopped using your company's product or service within a specified timeframe.\n",
    "For instance, if you began the year with 500 customers but later ended with 480 customers, the percentage of customers that left would be 4%. If we could figure out why a customer leaves and when they leave with reasonable accuracy, it would immensely help the organization to strategize their retention initiatives manifold.\n",
    "\n",
    "- In this project, we aim to find the likelihood of a customer leaving the organization, the key indicators of churn as well as the retention strategies that can be implemented to avert this problem.\n",
    "\n",
    "### Formulated question for our analysis\n",
    "\n",
    "1. How does gender impact customer churn? Are there significant differences in churn rates between male and female customers?\n",
    "\n",
    "2. Does the presence of a partner or dependents influence customer churn? Is there a relationship between marital status and churn behavior?\n",
    "\n",
    "3. How does the length of tenure affect churn rates? Are customers with longer tenures less likely to churn compared to new customers?\n",
    "\n",
    "\n",
    "4. What role do additional services (e.g., online security, tech support, streaming TV, etc.) play in reducing customer churn? Are customers with more services less likely to churn?\n",
    "\n",
    "5. Is there a correlation between the contract term (month-to-month, one year, two years) and churn rates? Are customers on long-term contracts less likely to churn compared to those on month-to-month contracts?\n",
    "\n",
    "### Hypothesis:\n",
    "\n",
    "- H_o: Contract type does not influence customer churn\n",
    "- H_a: Contract type affects customer churn\n",
    "\n",
    "### To test this hypothesis we will conduct a chi square test to establish their association.\n",
    "\n",
    "## 2. Data Understanding\n",
    "### The data for this project is in a csv format. The following describes the columns present in the data.\n",
    "\n",
    "- Gender -- Whether the customer is a male or a female\n",
    "\n",
    "- SeniorCitizen -- Whether a customer is a senior citizen or not\n",
    "\n",
    "- Partner -- Whether the customer has a partner or not (Yes, No)\n",
    "\n",
    "- Dependents -- Whether the customer has dependents or not (Yes, No)\n",
    "\n",
    "- Tenure -- Number of months the customer has stayed with the company\n",
    "\n",
    "- Phone Service -- Whether the customer has a phone service or not (Yes, No)\n",
    "\n",
    "- MultipleLines -- Whether the customer has multiple lines or not\n",
    "\n",
    "- InternetService -- Customer's internet service provider (DSL, Fiber Optic, No)\n",
    "\n",
    "- OnlineSecurity -- Whether the customer has online security or not (Yes, No, No Internet)\n",
    "\n",
    "- OnlineBackup -- Whether the customer has online backup or not (Yes, No, No Internet)\n",
    "\n",
    "- DeviceProtection -- Whether the customer has device protection or not (Yes, No, No internet service)\n",
    "\n",
    "- TechSupport -- Whether the customer has tech support or not (Yes, No, No internet)\n",
    "\n",
    "- StreamingTV -- Whether the customer has streaming TV or not (Yes, No, No internet service)\n",
    "\n",
    "- StreamingMovies -- Whether the customer has streaming movies or not (Yes, No, No Internet service)\n",
    "\n",
    "- Contract -- The contract term of the customer (Month-to-Month, One year, Two year)\n",
    "\n",
    "- PaperlessBilling -- Whether the customer has paperless billing or not (Yes, No)\n",
    "\n",
    "- Payment Method -- The customer's payment method (Electronic check, mailed check, Bank transfer(automatic), Credit card(automatic))\n",
    "\n",
    "- MonthlyCharges -- The amount charged to the customer monthly\n",
    "\n",
    "- TotalCharges -- The total amount charged to the customer\n",
    "\n",
    "- Churn -- Whether the customer churned or not (Yes or No)\n",
    "\n",
    "\n"
   ]
  },
  {
   "cell_type": "code",
   "execution_count": 8,
   "metadata": {},
   "outputs": [
    {
     "name": "stdout",
     "output_type": "stream",
     "text": [
      "Requirement already satisfied: squarify in c:\\users\\user\\appdata\\local\\programs\\python\\python311\\lib\\site-packages (0.4.3)\n",
      "Note: you may need to restart the kernel to use updated packages.\n"
     ]
    },
    {
     "name": "stderr",
     "output_type": "stream",
     "text": [
      "\n",
      "[notice] A new release of pip is available: 23.1.2 -> 23.2.1\n",
      "[notice] To update, run: python.exe -m pip install --upgrade pip\n"
     ]
    },
    {
     "name": "stdout",
     "output_type": "stream",
     "text": [
      "Requirement already satisfied: openpyxl in c:\\users\\user\\appdata\\local\\programs\\python\\python311\\lib\\site-packages (3.1.2)\n",
      "Requirement already satisfied: et-xmlfile in c:\\users\\user\\appdata\\local\\programs\\python\\python311\\lib\\site-packages (from openpyxl) (1.1.0)\n",
      "Note: you may need to restart the kernel to use updated packages.\n"
     ]
    },
    {
     "name": "stderr",
     "output_type": "stream",
     "text": [
      "\n",
      "[notice] A new release of pip is available: 23.1.2 -> 23.2.1\n",
      "[notice] To update, run: python.exe -m pip install --upgrade pip\n"
     ]
    }
   ],
   "source": [
    "# installations\n",
    "%pip install squarify\n",
    "%pip install openpyxl"
   ]
  },
  {
   "cell_type": "markdown",
   "metadata": {},
   "source": [
    "### Python Libraries\n",
    "### This section is to import all necessary libraries that will be used in the notebook"
   ]
  },
  {
   "cell_type": "code",
   "execution_count": 9,
   "metadata": {},
   "outputs": [],
   "source": [
    "# Database access\n",
    "import pyodbc\n",
    "from dotenv import dotenv_values \n",
    "\n",
    "# Data handling and manipulation\n",
    "import pandas as pd \n",
    "import numpy as np \n",
    "\n",
    "# Visualization\n",
    "import matplotlib.pyplot as plt \n",
    "%matplotlib inline \n",
    "plt.style.use(\"ggplot\")\n",
    "import seaborn as sns \n",
    "sns.set_style('whitegrid') # Set the style to 'whitegrid'\n",
    "import plotly.express as px\n",
    "import squarify\n",
    "\n",
    "# statistical analysis \n",
    "\n",
    "from scipy import stats\n",
    "\n",
    "from scipy.stats import pearsonr\n",
    "from statsmodels.formula.api import ols\n",
    "import statsmodels.api as sm\n",
    "from scipy.stats import chi2_contingency\n",
    "\n",
    "#display all columns and rows \n",
    "pd.set_option('display.max_columns', None)\n",
    "#pd.set_option('display.max_rows', None)\n",
    "\n",
    "# filter warnings\n",
    "import warnings\n",
    "warnings.filterwarnings('ignore')"
   ]
  },
  {
   "cell_type": "markdown",
   "metadata": {},
   "source": [
    "## 3. Data preparation\n",
    "### 3.1: Data Loading\n",
    "### This is how the first dataset was retrieved from the SQL Server database. The second and third datasets were downloaded and imported."
   ]
  },
  {
   "cell_type": "code",
   "execution_count": 10,
   "metadata": {},
   "outputs": [],
   "source": [
    "# Load environment variables from .env file into a dictionary\n",
    "environment_variables=dotenv_values('.env') "
   ]
  },
  {
   "cell_type": "code",
   "execution_count": 11,
   "metadata": {},
   "outputs": [],
   "source": [
    "# Get the values for the credentials you set in the '.env' file\n",
    "database=environment_variables.get(\"database\")\n",
    "server=environment_variables.get(\"server\")\n",
    "username=environment_variables.get(\"username\")\n",
    "password=environment_variables.get(\"password\")"
   ]
  },
  {
   "cell_type": "code",
   "execution_count": 12,
   "metadata": {},
   "outputs": [],
   "source": [
    "# establish a connection to the SQL Server database using the specified parameters.\n",
    "connection_string=f\"DRIVER={{SQL Server}};SERVER={server};DATABASE={database};UID={username};PWD={password}\""
   ]
  },
  {
   "cell_type": "code",
   "execution_count": 13,
   "metadata": {},
   "outputs": [],
   "source": [
    "# Use the connect method of the pyodbc library and pass in the connection string.\n",
    "# This will connect to the server and might take a few seconds to be complete. \n",
    "# Check your internet connection if it takes more time than necessary\n",
    "connection=pyodbc.connect(connection_string)"
   ]
  },
  {
   "cell_type": "code",
   "execution_count": 14,
   "metadata": {},
   "outputs": [],
   "source": [
    "# Now the sql query to get the data is what what you see below. \n",
    "# Note that you will not have permissions to insert delete or update this database table. \n",
    "query=\"Select * from dbo.LP2_Telco_churn_first_3000\"\n",
    "data=pd.read_sql(query,connection)"
   ]
  },
  {
   "cell_type": "code",
   "execution_count": 15,
   "metadata": {},
   "outputs": [
    {
     "data": {
      "text/html": [
       "<div>\n",
       "<style scoped>\n",
       "    .dataframe tbody tr th:only-of-type {\n",
       "        vertical-align: middle;\n",
       "    }\n",
       "\n",
       "    .dataframe tbody tr th {\n",
       "        vertical-align: top;\n",
       "    }\n",
       "\n",
       "    .dataframe thead th {\n",
       "        text-align: right;\n",
       "    }\n",
       "</style>\n",
       "<table border=\"1\" class=\"dataframe\">\n",
       "  <thead>\n",
       "    <tr style=\"text-align: right;\">\n",
       "      <th></th>\n",
       "      <th>customerID</th>\n",
       "      <th>gender</th>\n",
       "      <th>SeniorCitizen</th>\n",
       "      <th>Partner</th>\n",
       "      <th>Dependents</th>\n",
       "      <th>tenure</th>\n",
       "      <th>PhoneService</th>\n",
       "      <th>MultipleLines</th>\n",
       "      <th>InternetService</th>\n",
       "      <th>OnlineSecurity</th>\n",
       "      <th>OnlineBackup</th>\n",
       "      <th>DeviceProtection</th>\n",
       "      <th>TechSupport</th>\n",
       "      <th>StreamingTV</th>\n",
       "      <th>StreamingMovies</th>\n",
       "      <th>Contract</th>\n",
       "      <th>PaperlessBilling</th>\n",
       "      <th>PaymentMethod</th>\n",
       "      <th>MonthlyCharges</th>\n",
       "      <th>TotalCharges</th>\n",
       "      <th>Churn</th>\n",
       "    </tr>\n",
       "  </thead>\n",
       "  <tbody>\n",
       "    <tr>\n",
       "      <th>0</th>\n",
       "      <td>7590-VHVEG</td>\n",
       "      <td>Female</td>\n",
       "      <td>False</td>\n",
       "      <td>True</td>\n",
       "      <td>False</td>\n",
       "      <td>1</td>\n",
       "      <td>False</td>\n",
       "      <td>None</td>\n",
       "      <td>DSL</td>\n",
       "      <td>False</td>\n",
       "      <td>True</td>\n",
       "      <td>False</td>\n",
       "      <td>False</td>\n",
       "      <td>False</td>\n",
       "      <td>False</td>\n",
       "      <td>Month-to-month</td>\n",
       "      <td>True</td>\n",
       "      <td>Electronic check</td>\n",
       "      <td>29.850000</td>\n",
       "      <td>29.850000</td>\n",
       "      <td>False</td>\n",
       "    </tr>\n",
       "    <tr>\n",
       "      <th>1</th>\n",
       "      <td>5575-GNVDE</td>\n",
       "      <td>Male</td>\n",
       "      <td>False</td>\n",
       "      <td>False</td>\n",
       "      <td>False</td>\n",
       "      <td>34</td>\n",
       "      <td>True</td>\n",
       "      <td>False</td>\n",
       "      <td>DSL</td>\n",
       "      <td>True</td>\n",
       "      <td>False</td>\n",
       "      <td>True</td>\n",
       "      <td>False</td>\n",
       "      <td>False</td>\n",
       "      <td>False</td>\n",
       "      <td>One year</td>\n",
       "      <td>False</td>\n",
       "      <td>Mailed check</td>\n",
       "      <td>56.950001</td>\n",
       "      <td>1889.500000</td>\n",
       "      <td>False</td>\n",
       "    </tr>\n",
       "    <tr>\n",
       "      <th>2</th>\n",
       "      <td>3668-QPYBK</td>\n",
       "      <td>Male</td>\n",
       "      <td>False</td>\n",
       "      <td>False</td>\n",
       "      <td>False</td>\n",
       "      <td>2</td>\n",
       "      <td>True</td>\n",
       "      <td>False</td>\n",
       "      <td>DSL</td>\n",
       "      <td>True</td>\n",
       "      <td>True</td>\n",
       "      <td>False</td>\n",
       "      <td>False</td>\n",
       "      <td>False</td>\n",
       "      <td>False</td>\n",
       "      <td>Month-to-month</td>\n",
       "      <td>True</td>\n",
       "      <td>Mailed check</td>\n",
       "      <td>53.849998</td>\n",
       "      <td>108.150002</td>\n",
       "      <td>True</td>\n",
       "    </tr>\n",
       "    <tr>\n",
       "      <th>3</th>\n",
       "      <td>7795-CFOCW</td>\n",
       "      <td>Male</td>\n",
       "      <td>False</td>\n",
       "      <td>False</td>\n",
       "      <td>False</td>\n",
       "      <td>45</td>\n",
       "      <td>False</td>\n",
       "      <td>None</td>\n",
       "      <td>DSL</td>\n",
       "      <td>True</td>\n",
       "      <td>False</td>\n",
       "      <td>True</td>\n",
       "      <td>True</td>\n",
       "      <td>False</td>\n",
       "      <td>False</td>\n",
       "      <td>One year</td>\n",
       "      <td>False</td>\n",
       "      <td>Bank transfer (automatic)</td>\n",
       "      <td>42.299999</td>\n",
       "      <td>1840.750000</td>\n",
       "      <td>False</td>\n",
       "    </tr>\n",
       "    <tr>\n",
       "      <th>4</th>\n",
       "      <td>9237-HQITU</td>\n",
       "      <td>Female</td>\n",
       "      <td>False</td>\n",
       "      <td>False</td>\n",
       "      <td>False</td>\n",
       "      <td>2</td>\n",
       "      <td>True</td>\n",
       "      <td>False</td>\n",
       "      <td>Fiber optic</td>\n",
       "      <td>False</td>\n",
       "      <td>False</td>\n",
       "      <td>False</td>\n",
       "      <td>False</td>\n",
       "      <td>False</td>\n",
       "      <td>False</td>\n",
       "      <td>Month-to-month</td>\n",
       "      <td>True</td>\n",
       "      <td>Electronic check</td>\n",
       "      <td>70.699997</td>\n",
       "      <td>151.649994</td>\n",
       "      <td>True</td>\n",
       "    </tr>\n",
       "    <tr>\n",
       "      <th>5</th>\n",
       "      <td>9305-CDSKC</td>\n",
       "      <td>Female</td>\n",
       "      <td>False</td>\n",
       "      <td>False</td>\n",
       "      <td>False</td>\n",
       "      <td>8</td>\n",
       "      <td>True</td>\n",
       "      <td>True</td>\n",
       "      <td>Fiber optic</td>\n",
       "      <td>False</td>\n",
       "      <td>False</td>\n",
       "      <td>True</td>\n",
       "      <td>False</td>\n",
       "      <td>True</td>\n",
       "      <td>True</td>\n",
       "      <td>Month-to-month</td>\n",
       "      <td>True</td>\n",
       "      <td>Electronic check</td>\n",
       "      <td>99.650002</td>\n",
       "      <td>820.500000</td>\n",
       "      <td>True</td>\n",
       "    </tr>\n",
       "    <tr>\n",
       "      <th>6</th>\n",
       "      <td>1452-KIOVK</td>\n",
       "      <td>Male</td>\n",
       "      <td>False</td>\n",
       "      <td>False</td>\n",
       "      <td>True</td>\n",
       "      <td>22</td>\n",
       "      <td>True</td>\n",
       "      <td>True</td>\n",
       "      <td>Fiber optic</td>\n",
       "      <td>False</td>\n",
       "      <td>True</td>\n",
       "      <td>False</td>\n",
       "      <td>False</td>\n",
       "      <td>True</td>\n",
       "      <td>False</td>\n",
       "      <td>Month-to-month</td>\n",
       "      <td>True</td>\n",
       "      <td>Credit card (automatic)</td>\n",
       "      <td>89.099998</td>\n",
       "      <td>1949.400024</td>\n",
       "      <td>False</td>\n",
       "    </tr>\n",
       "    <tr>\n",
       "      <th>7</th>\n",
       "      <td>6713-OKOMC</td>\n",
       "      <td>Female</td>\n",
       "      <td>False</td>\n",
       "      <td>False</td>\n",
       "      <td>False</td>\n",
       "      <td>10</td>\n",
       "      <td>False</td>\n",
       "      <td>None</td>\n",
       "      <td>DSL</td>\n",
       "      <td>True</td>\n",
       "      <td>False</td>\n",
       "      <td>False</td>\n",
       "      <td>False</td>\n",
       "      <td>False</td>\n",
       "      <td>False</td>\n",
       "      <td>Month-to-month</td>\n",
       "      <td>False</td>\n",
       "      <td>Mailed check</td>\n",
       "      <td>29.750000</td>\n",
       "      <td>301.899994</td>\n",
       "      <td>False</td>\n",
       "    </tr>\n",
       "    <tr>\n",
       "      <th>8</th>\n",
       "      <td>7892-POOKP</td>\n",
       "      <td>Female</td>\n",
       "      <td>False</td>\n",
       "      <td>True</td>\n",
       "      <td>False</td>\n",
       "      <td>28</td>\n",
       "      <td>True</td>\n",
       "      <td>True</td>\n",
       "      <td>Fiber optic</td>\n",
       "      <td>False</td>\n",
       "      <td>False</td>\n",
       "      <td>True</td>\n",
       "      <td>True</td>\n",
       "      <td>True</td>\n",
       "      <td>True</td>\n",
       "      <td>Month-to-month</td>\n",
       "      <td>True</td>\n",
       "      <td>Electronic check</td>\n",
       "      <td>104.800003</td>\n",
       "      <td>3046.050049</td>\n",
       "      <td>True</td>\n",
       "    </tr>\n",
       "    <tr>\n",
       "      <th>9</th>\n",
       "      <td>6388-TABGU</td>\n",
       "      <td>Male</td>\n",
       "      <td>False</td>\n",
       "      <td>False</td>\n",
       "      <td>True</td>\n",
       "      <td>62</td>\n",
       "      <td>True</td>\n",
       "      <td>False</td>\n",
       "      <td>DSL</td>\n",
       "      <td>True</td>\n",
       "      <td>True</td>\n",
       "      <td>False</td>\n",
       "      <td>False</td>\n",
       "      <td>False</td>\n",
       "      <td>False</td>\n",
       "      <td>One year</td>\n",
       "      <td>False</td>\n",
       "      <td>Bank transfer (automatic)</td>\n",
       "      <td>56.150002</td>\n",
       "      <td>3487.949951</td>\n",
       "      <td>False</td>\n",
       "    </tr>\n",
       "  </tbody>\n",
       "</table>\n",
       "</div>"
      ],
      "text/plain": [
       "   customerID  gender  SeniorCitizen  Partner  Dependents  tenure  \\\n",
       "0  7590-VHVEG  Female          False     True       False       1   \n",
       "1  5575-GNVDE    Male          False    False       False      34   \n",
       "2  3668-QPYBK    Male          False    False       False       2   \n",
       "3  7795-CFOCW    Male          False    False       False      45   \n",
       "4  9237-HQITU  Female          False    False       False       2   \n",
       "5  9305-CDSKC  Female          False    False       False       8   \n",
       "6  1452-KIOVK    Male          False    False        True      22   \n",
       "7  6713-OKOMC  Female          False    False       False      10   \n",
       "8  7892-POOKP  Female          False     True       False      28   \n",
       "9  6388-TABGU    Male          False    False        True      62   \n",
       "\n",
       "   PhoneService MultipleLines InternetService OnlineSecurity OnlineBackup  \\\n",
       "0         False          None             DSL          False         True   \n",
       "1          True         False             DSL           True        False   \n",
       "2          True         False             DSL           True         True   \n",
       "3         False          None             DSL           True        False   \n",
       "4          True         False     Fiber optic          False        False   \n",
       "5          True          True     Fiber optic          False        False   \n",
       "6          True          True     Fiber optic          False         True   \n",
       "7         False          None             DSL           True        False   \n",
       "8          True          True     Fiber optic          False        False   \n",
       "9          True         False             DSL           True         True   \n",
       "\n",
       "  DeviceProtection TechSupport StreamingTV StreamingMovies        Contract  \\\n",
       "0            False       False       False           False  Month-to-month   \n",
       "1             True       False       False           False        One year   \n",
       "2            False       False       False           False  Month-to-month   \n",
       "3             True        True       False           False        One year   \n",
       "4            False       False       False           False  Month-to-month   \n",
       "5             True       False        True            True  Month-to-month   \n",
       "6            False       False        True           False  Month-to-month   \n",
       "7            False       False       False           False  Month-to-month   \n",
       "8             True        True        True            True  Month-to-month   \n",
       "9            False       False       False           False        One year   \n",
       "\n",
       "   PaperlessBilling              PaymentMethod  MonthlyCharges  TotalCharges  \\\n",
       "0              True           Electronic check       29.850000     29.850000   \n",
       "1             False               Mailed check       56.950001   1889.500000   \n",
       "2              True               Mailed check       53.849998    108.150002   \n",
       "3             False  Bank transfer (automatic)       42.299999   1840.750000   \n",
       "4              True           Electronic check       70.699997    151.649994   \n",
       "5              True           Electronic check       99.650002    820.500000   \n",
       "6              True    Credit card (automatic)       89.099998   1949.400024   \n",
       "7             False               Mailed check       29.750000    301.899994   \n",
       "8              True           Electronic check      104.800003   3046.050049   \n",
       "9             False  Bank transfer (automatic)       56.150002   3487.949951   \n",
       "\n",
       "   Churn  \n",
       "0  False  \n",
       "1  False  \n",
       "2   True  \n",
       "3  False  \n",
       "4   True  \n",
       "5   True  \n",
       "6  False  \n",
       "7  False  \n",
       "8   True  \n",
       "9  False  "
      ]
     },
     "execution_count": 15,
     "metadata": {},
     "output_type": "execute_result"
    }
   ],
   "source": [
    "data.head(10)"
   ]
  },
  {
   "cell_type": "code",
   "execution_count": 16,
   "metadata": {},
   "outputs": [],
   "source": [
    "# Define the file path to save the CSV file on your desktop\n",
    "file_path = \"C:/Users/user/Desktop/LP2/Telco-Churn-Analysis/Datasets/train1.csv\"\n",
    "# Save the data as a CSV file\n",
    "data.to_csv(file_path,  index=False)"
   ]
  },
  {
   "cell_type": "code",
   "execution_count": 17,
   "metadata": {},
   "outputs": [
    {
     "name": "stdout",
     "output_type": "stream",
     "text": [
      "rows = 3000\n",
      "columns = 21\n"
     ]
    }
   ],
   "source": [
    "# Get the dimensions of the DataFrame\n",
    "print(f'rows = {data.shape[0]}\\ncolumns = {data.shape[1]}')"
   ]
  },
  {
   "cell_type": "code",
   "execution_count": 18,
   "metadata": {},
   "outputs": [
    {
     "name": "stdout",
     "output_type": "stream",
     "text": [
      "<class 'pandas.core.frame.DataFrame'>\n",
      "RangeIndex: 3000 entries, 0 to 2999\n",
      "Data columns (total 21 columns):\n",
      " #   Column            Non-Null Count  Dtype  \n",
      "---  ------            --------------  -----  \n",
      " 0   customerID        3000 non-null   object \n",
      " 1   gender            3000 non-null   object \n",
      " 2   SeniorCitizen     3000 non-null   bool   \n",
      " 3   Partner           3000 non-null   bool   \n",
      " 4   Dependents        3000 non-null   bool   \n",
      " 5   tenure            3000 non-null   int64  \n",
      " 6   PhoneService      3000 non-null   bool   \n",
      " 7   MultipleLines     2731 non-null   object \n",
      " 8   InternetService   3000 non-null   object \n",
      " 9   OnlineSecurity    2349 non-null   object \n",
      " 10  OnlineBackup      2349 non-null   object \n",
      " 11  DeviceProtection  2349 non-null   object \n",
      " 12  TechSupport       2349 non-null   object \n",
      " 13  StreamingTV       2349 non-null   object \n",
      " 14  StreamingMovies   2349 non-null   object \n",
      " 15  Contract          3000 non-null   object \n",
      " 16  PaperlessBilling  3000 non-null   bool   \n",
      " 17  PaymentMethod     3000 non-null   object \n",
      " 18  MonthlyCharges    3000 non-null   float64\n",
      " 19  TotalCharges      2995 non-null   float64\n",
      " 20  Churn             2999 non-null   object \n",
      "dtypes: bool(5), float64(2), int64(1), object(13)\n",
      "memory usage: 389.8+ KB\n"
     ]
    }
   ],
   "source": [
    "# get the the info of the DataFrame\n",
    "data.info()"
   ]
  },
  {
   "cell_type": "markdown",
   "metadata": {},
   "source": [
    "### we can see that there are missing values in some of the columns"
   ]
  },
  {
   "cell_type": "code",
   "execution_count": 19,
   "metadata": {},
   "outputs": [
    {
     "data": {
      "text/html": [
       "<div>\n",
       "<style scoped>\n",
       "    .dataframe tbody tr th:only-of-type {\n",
       "        vertical-align: middle;\n",
       "    }\n",
       "\n",
       "    .dataframe tbody tr th {\n",
       "        vertical-align: top;\n",
       "    }\n",
       "\n",
       "    .dataframe thead th {\n",
       "        text-align: right;\n",
       "    }\n",
       "</style>\n",
       "<table border=\"1\" class=\"dataframe\">\n",
       "  <thead>\n",
       "    <tr style=\"text-align: right;\">\n",
       "      <th></th>\n",
       "      <th>tenure</th>\n",
       "      <th>MonthlyCharges</th>\n",
       "      <th>TotalCharges</th>\n",
       "    </tr>\n",
       "  </thead>\n",
       "  <tbody>\n",
       "    <tr>\n",
       "      <th>count</th>\n",
       "      <td>3000.000000</td>\n",
       "      <td>3000.000000</td>\n",
       "      <td>2995.000000</td>\n",
       "    </tr>\n",
       "    <tr>\n",
       "      <th>mean</th>\n",
       "      <td>32.527333</td>\n",
       "      <td>65.347400</td>\n",
       "      <td>2301.278315</td>\n",
       "    </tr>\n",
       "    <tr>\n",
       "      <th>std</th>\n",
       "      <td>24.637768</td>\n",
       "      <td>30.137053</td>\n",
       "      <td>2274.987884</td>\n",
       "    </tr>\n",
       "    <tr>\n",
       "      <th>min</th>\n",
       "      <td>0.000000</td>\n",
       "      <td>18.400000</td>\n",
       "      <td>18.799999</td>\n",
       "    </tr>\n",
       "    <tr>\n",
       "      <th>25%</th>\n",
       "      <td>9.000000</td>\n",
       "      <td>35.787499</td>\n",
       "      <td>415.250000</td>\n",
       "    </tr>\n",
       "    <tr>\n",
       "      <th>50%</th>\n",
       "      <td>29.000000</td>\n",
       "      <td>70.900002</td>\n",
       "      <td>1404.650024</td>\n",
       "    </tr>\n",
       "    <tr>\n",
       "      <th>75%</th>\n",
       "      <td>56.000000</td>\n",
       "      <td>90.262501</td>\n",
       "      <td>3868.725098</td>\n",
       "    </tr>\n",
       "    <tr>\n",
       "      <th>max</th>\n",
       "      <td>72.000000</td>\n",
       "      <td>118.650002</td>\n",
       "      <td>8564.750000</td>\n",
       "    </tr>\n",
       "  </tbody>\n",
       "</table>\n",
       "</div>"
      ],
      "text/plain": [
       "            tenure  MonthlyCharges  TotalCharges\n",
       "count  3000.000000     3000.000000   2995.000000\n",
       "mean     32.527333       65.347400   2301.278315\n",
       "std      24.637768       30.137053   2274.987884\n",
       "min       0.000000       18.400000     18.799999\n",
       "25%       9.000000       35.787499    415.250000\n",
       "50%      29.000000       70.900002   1404.650024\n",
       "75%      56.000000       90.262501   3868.725098\n",
       "max      72.000000      118.650002   8564.750000"
      ]
     },
     "execution_count": 19,
     "metadata": {},
     "output_type": "execute_result"
    }
   ],
   "source": [
    "# Generate descriptive statistics\n",
    "data.describe()"
   ]
  },
  {
   "cell_type": "code",
   "execution_count": 20,
   "metadata": {},
   "outputs": [
    {
     "data": {
      "text/plain": [
       "customerID          3000\n",
       "gender                 2\n",
       "SeniorCitizen          2\n",
       "Partner                2\n",
       "Dependents             2\n",
       "tenure                73\n",
       "PhoneService           2\n",
       "MultipleLines          2\n",
       "InternetService        3\n",
       "OnlineSecurity         2\n",
       "OnlineBackup           2\n",
       "DeviceProtection       2\n",
       "TechSupport            2\n",
       "StreamingTV            2\n",
       "StreamingMovies        2\n",
       "Contract               3\n",
       "PaperlessBilling       2\n",
       "PaymentMethod          4\n",
       "MonthlyCharges      1198\n",
       "TotalCharges        2893\n",
       "Churn                  2\n",
       "dtype: int64"
      ]
     },
     "execution_count": 20,
     "metadata": {},
     "output_type": "execute_result"
    }
   ],
   "source": [
    "# check the number of unique values in each attribute\n",
    "data.nunique()"
   ]
  },
  {
   "cell_type": "code",
   "execution_count": 21,
   "metadata": {},
   "outputs": [
    {
     "data": {
      "text/plain": [
       "customerID            0\n",
       "gender                0\n",
       "SeniorCitizen         0\n",
       "Partner               0\n",
       "Dependents            0\n",
       "tenure                0\n",
       "PhoneService          0\n",
       "MultipleLines       269\n",
       "InternetService       0\n",
       "OnlineSecurity      651\n",
       "OnlineBackup        651\n",
       "DeviceProtection    651\n",
       "TechSupport         651\n",
       "StreamingTV         651\n",
       "StreamingMovies     651\n",
       "Contract              0\n",
       "PaperlessBilling      0\n",
       "PaymentMethod         0\n",
       "MonthlyCharges        0\n",
       "TotalCharges          5\n",
       "Churn                 1\n",
       "dtype: int64"
      ]
     },
     "execution_count": 21,
     "metadata": {},
     "output_type": "execute_result"
    }
   ],
   "source": [
    "data.isna().sum()"
   ]
  },
  {
   "cell_type": "code",
   "execution_count": 22,
   "metadata": {},
   "outputs": [
    {
     "data": {
      "text/html": [
       "<div>\n",
       "<style scoped>\n",
       "    .dataframe tbody tr th:only-of-type {\n",
       "        vertical-align: middle;\n",
       "    }\n",
       "\n",
       "    .dataframe tbody tr th {\n",
       "        vertical-align: top;\n",
       "    }\n",
       "\n",
       "    .dataframe thead th {\n",
       "        text-align: right;\n",
       "    }\n",
       "</style>\n",
       "<table border=\"1\" class=\"dataframe\">\n",
       "  <thead>\n",
       "    <tr style=\"text-align: right;\">\n",
       "      <th></th>\n",
       "      <th>customerID</th>\n",
       "      <th>gender</th>\n",
       "      <th>SeniorCitizen</th>\n",
       "      <th>Partner</th>\n",
       "      <th>Dependents</th>\n",
       "      <th>tenure</th>\n",
       "      <th>PhoneService</th>\n",
       "      <th>MultipleLines</th>\n",
       "      <th>InternetService</th>\n",
       "      <th>OnlineSecurity</th>\n",
       "      <th>OnlineBackup</th>\n",
       "      <th>DeviceProtection</th>\n",
       "      <th>TechSupport</th>\n",
       "      <th>StreamingTV</th>\n",
       "      <th>StreamingMovies</th>\n",
       "      <th>Contract</th>\n",
       "      <th>PaperlessBilling</th>\n",
       "      <th>PaymentMethod</th>\n",
       "      <th>MonthlyCharges</th>\n",
       "      <th>TotalCharges</th>\n",
       "    </tr>\n",
       "  </thead>\n",
       "  <tbody>\n",
       "    <tr>\n",
       "      <th>0</th>\n",
       "      <td>7613-LLQFO</td>\n",
       "      <td>Male</td>\n",
       "      <td>0</td>\n",
       "      <td>No</td>\n",
       "      <td>No</td>\n",
       "      <td>12</td>\n",
       "      <td>Yes</td>\n",
       "      <td>Yes</td>\n",
       "      <td>Fiber optic</td>\n",
       "      <td>No</td>\n",
       "      <td>No</td>\n",
       "      <td>No</td>\n",
       "      <td>No</td>\n",
       "      <td>Yes</td>\n",
       "      <td>No</td>\n",
       "      <td>Month-to-month</td>\n",
       "      <td>Yes</td>\n",
       "      <td>Electronic check</td>\n",
       "      <td>84.45</td>\n",
       "      <td>1059.55</td>\n",
       "    </tr>\n",
       "    <tr>\n",
       "      <th>1</th>\n",
       "      <td>4568-TTZRT</td>\n",
       "      <td>Male</td>\n",
       "      <td>0</td>\n",
       "      <td>No</td>\n",
       "      <td>No</td>\n",
       "      <td>9</td>\n",
       "      <td>Yes</td>\n",
       "      <td>No</td>\n",
       "      <td>No</td>\n",
       "      <td>No internet service</td>\n",
       "      <td>No internet service</td>\n",
       "      <td>No internet service</td>\n",
       "      <td>No internet service</td>\n",
       "      <td>No internet service</td>\n",
       "      <td>No internet service</td>\n",
       "      <td>Month-to-month</td>\n",
       "      <td>No</td>\n",
       "      <td>Mailed check</td>\n",
       "      <td>20.40</td>\n",
       "      <td>181.8</td>\n",
       "    </tr>\n",
       "    <tr>\n",
       "      <th>2</th>\n",
       "      <td>9513-DXHDA</td>\n",
       "      <td>Male</td>\n",
       "      <td>0</td>\n",
       "      <td>No</td>\n",
       "      <td>No</td>\n",
       "      <td>27</td>\n",
       "      <td>Yes</td>\n",
       "      <td>No</td>\n",
       "      <td>DSL</td>\n",
       "      <td>Yes</td>\n",
       "      <td>No</td>\n",
       "      <td>Yes</td>\n",
       "      <td>Yes</td>\n",
       "      <td>Yes</td>\n",
       "      <td>Yes</td>\n",
       "      <td>One year</td>\n",
       "      <td>No</td>\n",
       "      <td>Electronic check</td>\n",
       "      <td>81.70</td>\n",
       "      <td>2212.55</td>\n",
       "    </tr>\n",
       "    <tr>\n",
       "      <th>3</th>\n",
       "      <td>2640-PMGFL</td>\n",
       "      <td>Male</td>\n",
       "      <td>0</td>\n",
       "      <td>No</td>\n",
       "      <td>Yes</td>\n",
       "      <td>27</td>\n",
       "      <td>Yes</td>\n",
       "      <td>Yes</td>\n",
       "      <td>Fiber optic</td>\n",
       "      <td>No</td>\n",
       "      <td>No</td>\n",
       "      <td>No</td>\n",
       "      <td>Yes</td>\n",
       "      <td>No</td>\n",
       "      <td>No</td>\n",
       "      <td>Month-to-month</td>\n",
       "      <td>Yes</td>\n",
       "      <td>Electronic check</td>\n",
       "      <td>79.50</td>\n",
       "      <td>2180.55</td>\n",
       "    </tr>\n",
       "    <tr>\n",
       "      <th>4</th>\n",
       "      <td>3801-HMYNL</td>\n",
       "      <td>Male</td>\n",
       "      <td>0</td>\n",
       "      <td>Yes</td>\n",
       "      <td>Yes</td>\n",
       "      <td>1</td>\n",
       "      <td>Yes</td>\n",
       "      <td>No</td>\n",
       "      <td>Fiber optic</td>\n",
       "      <td>No</td>\n",
       "      <td>No</td>\n",
       "      <td>No</td>\n",
       "      <td>No</td>\n",
       "      <td>Yes</td>\n",
       "      <td>Yes</td>\n",
       "      <td>Month-to-month</td>\n",
       "      <td>No</td>\n",
       "      <td>Mailed check</td>\n",
       "      <td>89.15</td>\n",
       "      <td>89.15</td>\n",
       "    </tr>\n",
       "  </tbody>\n",
       "</table>\n",
       "</div>"
      ],
      "text/plain": [
       "   customerID gender  SeniorCitizen Partner Dependents  tenure PhoneService  \\\n",
       "0  7613-LLQFO   Male              0      No         No      12          Yes   \n",
       "1  4568-TTZRT   Male              0      No         No       9          Yes   \n",
       "2  9513-DXHDA   Male              0      No         No      27          Yes   \n",
       "3  2640-PMGFL   Male              0      No        Yes      27          Yes   \n",
       "4  3801-HMYNL   Male              0     Yes        Yes       1          Yes   \n",
       "\n",
       "  MultipleLines InternetService       OnlineSecurity         OnlineBackup  \\\n",
       "0           Yes     Fiber optic                   No                   No   \n",
       "1            No              No  No internet service  No internet service   \n",
       "2            No             DSL                  Yes                   No   \n",
       "3           Yes     Fiber optic                   No                   No   \n",
       "4            No     Fiber optic                   No                   No   \n",
       "\n",
       "      DeviceProtection          TechSupport          StreamingTV  \\\n",
       "0                   No                   No                  Yes   \n",
       "1  No internet service  No internet service  No internet service   \n",
       "2                  Yes                  Yes                  Yes   \n",
       "3                   No                  Yes                   No   \n",
       "4                   No                   No                  Yes   \n",
       "\n",
       "       StreamingMovies        Contract PaperlessBilling     PaymentMethod  \\\n",
       "0                   No  Month-to-month              Yes  Electronic check   \n",
       "1  No internet service  Month-to-month               No      Mailed check   \n",
       "2                  Yes        One year               No  Electronic check   \n",
       "3                   No  Month-to-month              Yes  Electronic check   \n",
       "4                  Yes  Month-to-month               No      Mailed check   \n",
       "\n",
       "   MonthlyCharges TotalCharges  \n",
       "0           84.45      1059.55  \n",
       "1           20.40        181.8  \n",
       "2           81.70      2212.55  \n",
       "3           79.50      2180.55  \n",
       "4           89.15        89.15  "
      ]
     },
     "execution_count": 22,
     "metadata": {},
     "output_type": "execute_result"
    }
   ],
   "source": [
    "# loading the second dataset which is also the train set\n",
    "\n",
    "data2=pd.read_excel(r'C:\\Users\\user\\Desktop\\LP2\\Telco-Churn-Analysis\\Datasets\\Telco-churn-second-2000.xlsx')\n",
    "data2.head()"
   ]
  },
  {
   "cell_type": "code",
   "execution_count": 23,
   "metadata": {},
   "outputs": [
    {
     "data": {
      "text/plain": [
       "(2000, 20)"
      ]
     },
     "execution_count": 23,
     "metadata": {},
     "output_type": "execute_result"
    }
   ],
   "source": [
    "data2.shape"
   ]
  },
  {
   "cell_type": "code",
   "execution_count": 24,
   "metadata": {},
   "outputs": [
    {
     "name": "stdout",
     "output_type": "stream",
     "text": [
      "<class 'pandas.core.frame.DataFrame'>\n",
      "RangeIndex: 2000 entries, 0 to 1999\n",
      "Data columns (total 20 columns):\n",
      " #   Column            Non-Null Count  Dtype  \n",
      "---  ------            --------------  -----  \n",
      " 0   customerID        2000 non-null   object \n",
      " 1   gender            2000 non-null   object \n",
      " 2   SeniorCitizen     2000 non-null   int64  \n",
      " 3   Partner           2000 non-null   object \n",
      " 4   Dependents        2000 non-null   object \n",
      " 5   tenure            2000 non-null   int64  \n",
      " 6   PhoneService      2000 non-null   object \n",
      " 7   MultipleLines     2000 non-null   object \n",
      " 8   InternetService   2000 non-null   object \n",
      " 9   OnlineSecurity    2000 non-null   object \n",
      " 10  OnlineBackup      2000 non-null   object \n",
      " 11  DeviceProtection  2000 non-null   object \n",
      " 12  TechSupport       2000 non-null   object \n",
      " 13  StreamingTV       2000 non-null   object \n",
      " 14  StreamingMovies   2000 non-null   object \n",
      " 15  Contract          2000 non-null   object \n",
      " 16  PaperlessBilling  2000 non-null   object \n",
      " 17  PaymentMethod     2000 non-null   object \n",
      " 18  MonthlyCharges    2000 non-null   float64\n",
      " 19  TotalCharges      2000 non-null   object \n",
      "dtypes: float64(1), int64(2), object(17)\n",
      "memory usage: 312.6+ KB\n"
     ]
    }
   ],
   "source": [
    "data2.info()"
   ]
  },
  {
   "cell_type": "markdown",
   "metadata": {},
   "source": [
    "### we can see there are no missing values in the test dataset"
   ]
  },
  {
   "cell_type": "code",
   "execution_count": 25,
   "metadata": {},
   "outputs": [
    {
     "data": {
      "text/plain": [
       "customerID          2000\n",
       "gender                 2\n",
       "SeniorCitizen          2\n",
       "Partner                2\n",
       "Dependents             2\n",
       "tenure                73\n",
       "PhoneService           2\n",
       "MultipleLines          3\n",
       "InternetService        3\n",
       "OnlineSecurity         3\n",
       "OnlineBackup           3\n",
       "DeviceProtection       3\n",
       "TechSupport            3\n",
       "StreamingTV            3\n",
       "StreamingMovies        3\n",
       "Contract               3\n",
       "PaperlessBilling       2\n",
       "PaymentMethod          4\n",
       "MonthlyCharges       986\n",
       "TotalCharges        1930\n",
       "dtype: int64"
      ]
     },
     "execution_count": 25,
     "metadata": {},
     "output_type": "execute_result"
    }
   ],
   "source": [
    "data2.nunique()"
   ]
  },
  {
   "cell_type": "code",
   "execution_count": 26,
   "metadata": {},
   "outputs": [],
   "source": [
    "# Define the file path to save the CSV file on your desktop\n",
    "file_path = \"C:/Users/user/Desktop/LP2/Telco-Churn-Analysis/Datasets/test.csv\"\n",
    "# Save the data as a CSV file\n",
    "data2.to_csv(file_path,  index=False)"
   ]
  },
  {
   "cell_type": "code",
   "execution_count": 27,
   "metadata": {},
   "outputs": [
    {
     "data": {
      "text/html": [
       "<div>\n",
       "<style scoped>\n",
       "    .dataframe tbody tr th:only-of-type {\n",
       "        vertical-align: middle;\n",
       "    }\n",
       "\n",
       "    .dataframe tbody tr th {\n",
       "        vertical-align: top;\n",
       "    }\n",
       "\n",
       "    .dataframe thead th {\n",
       "        text-align: right;\n",
       "    }\n",
       "</style>\n",
       "<table border=\"1\" class=\"dataframe\">\n",
       "  <thead>\n",
       "    <tr style=\"text-align: right;\">\n",
       "      <th></th>\n",
       "      <th>customerID</th>\n",
       "      <th>gender</th>\n",
       "      <th>SeniorCitizen</th>\n",
       "      <th>Partner</th>\n",
       "      <th>Dependents</th>\n",
       "      <th>tenure</th>\n",
       "      <th>PhoneService</th>\n",
       "      <th>MultipleLines</th>\n",
       "      <th>InternetService</th>\n",
       "      <th>OnlineSecurity</th>\n",
       "      <th>OnlineBackup</th>\n",
       "      <th>DeviceProtection</th>\n",
       "      <th>TechSupport</th>\n",
       "      <th>StreamingTV</th>\n",
       "      <th>StreamingMovies</th>\n",
       "      <th>Contract</th>\n",
       "      <th>PaperlessBilling</th>\n",
       "      <th>PaymentMethod</th>\n",
       "      <th>MonthlyCharges</th>\n",
       "      <th>TotalCharges</th>\n",
       "      <th>Churn</th>\n",
       "    </tr>\n",
       "  </thead>\n",
       "  <tbody>\n",
       "    <tr>\n",
       "      <th>0</th>\n",
       "      <td>5600-PDUJF</td>\n",
       "      <td>Male</td>\n",
       "      <td>0</td>\n",
       "      <td>No</td>\n",
       "      <td>No</td>\n",
       "      <td>6</td>\n",
       "      <td>Yes</td>\n",
       "      <td>No</td>\n",
       "      <td>DSL</td>\n",
       "      <td>No</td>\n",
       "      <td>No</td>\n",
       "      <td>No</td>\n",
       "      <td>Yes</td>\n",
       "      <td>No</td>\n",
       "      <td>No</td>\n",
       "      <td>Month-to-month</td>\n",
       "      <td>Yes</td>\n",
       "      <td>Credit card (automatic)</td>\n",
       "      <td>49.50</td>\n",
       "      <td>312.7</td>\n",
       "      <td>No</td>\n",
       "    </tr>\n",
       "    <tr>\n",
       "      <th>1</th>\n",
       "      <td>8292-TYSPY</td>\n",
       "      <td>Male</td>\n",
       "      <td>0</td>\n",
       "      <td>No</td>\n",
       "      <td>No</td>\n",
       "      <td>19</td>\n",
       "      <td>Yes</td>\n",
       "      <td>No</td>\n",
       "      <td>DSL</td>\n",
       "      <td>No</td>\n",
       "      <td>No</td>\n",
       "      <td>Yes</td>\n",
       "      <td>Yes</td>\n",
       "      <td>No</td>\n",
       "      <td>No</td>\n",
       "      <td>Month-to-month</td>\n",
       "      <td>Yes</td>\n",
       "      <td>Credit card (automatic)</td>\n",
       "      <td>55.00</td>\n",
       "      <td>1046.5</td>\n",
       "      <td>Yes</td>\n",
       "    </tr>\n",
       "    <tr>\n",
       "      <th>2</th>\n",
       "      <td>0567-XRHCU</td>\n",
       "      <td>Female</td>\n",
       "      <td>0</td>\n",
       "      <td>Yes</td>\n",
       "      <td>Yes</td>\n",
       "      <td>69</td>\n",
       "      <td>No</td>\n",
       "      <td>No phone service</td>\n",
       "      <td>DSL</td>\n",
       "      <td>Yes</td>\n",
       "      <td>No</td>\n",
       "      <td>Yes</td>\n",
       "      <td>No</td>\n",
       "      <td>No</td>\n",
       "      <td>Yes</td>\n",
       "      <td>Two year</td>\n",
       "      <td>Yes</td>\n",
       "      <td>Credit card (automatic)</td>\n",
       "      <td>43.95</td>\n",
       "      <td>2960.1</td>\n",
       "      <td>No</td>\n",
       "    </tr>\n",
       "    <tr>\n",
       "      <th>3</th>\n",
       "      <td>1867-BDVFH</td>\n",
       "      <td>Male</td>\n",
       "      <td>0</td>\n",
       "      <td>Yes</td>\n",
       "      <td>Yes</td>\n",
       "      <td>11</td>\n",
       "      <td>Yes</td>\n",
       "      <td>Yes</td>\n",
       "      <td>Fiber optic</td>\n",
       "      <td>No</td>\n",
       "      <td>No</td>\n",
       "      <td>No</td>\n",
       "      <td>No</td>\n",
       "      <td>No</td>\n",
       "      <td>No</td>\n",
       "      <td>Month-to-month</td>\n",
       "      <td>Yes</td>\n",
       "      <td>Electronic check</td>\n",
       "      <td>74.35</td>\n",
       "      <td>834.2</td>\n",
       "      <td>Yes</td>\n",
       "    </tr>\n",
       "    <tr>\n",
       "      <th>4</th>\n",
       "      <td>2067-QYTCF</td>\n",
       "      <td>Female</td>\n",
       "      <td>0</td>\n",
       "      <td>Yes</td>\n",
       "      <td>No</td>\n",
       "      <td>64</td>\n",
       "      <td>Yes</td>\n",
       "      <td>Yes</td>\n",
       "      <td>Fiber optic</td>\n",
       "      <td>No</td>\n",
       "      <td>Yes</td>\n",
       "      <td>Yes</td>\n",
       "      <td>Yes</td>\n",
       "      <td>Yes</td>\n",
       "      <td>Yes</td>\n",
       "      <td>Month-to-month</td>\n",
       "      <td>Yes</td>\n",
       "      <td>Electronic check</td>\n",
       "      <td>111.15</td>\n",
       "      <td>6953.4</td>\n",
       "      <td>No</td>\n",
       "    </tr>\n",
       "  </tbody>\n",
       "</table>\n",
       "</div>"
      ],
      "text/plain": [
       "   customerID  gender  SeniorCitizen Partner Dependents  tenure PhoneService  \\\n",
       "0  5600-PDUJF    Male              0      No         No       6          Yes   \n",
       "1  8292-TYSPY    Male              0      No         No      19          Yes   \n",
       "2  0567-XRHCU  Female              0     Yes        Yes      69           No   \n",
       "3  1867-BDVFH    Male              0     Yes        Yes      11          Yes   \n",
       "4  2067-QYTCF  Female              0     Yes         No      64          Yes   \n",
       "\n",
       "      MultipleLines InternetService OnlineSecurity OnlineBackup  \\\n",
       "0                No             DSL             No           No   \n",
       "1                No             DSL             No           No   \n",
       "2  No phone service             DSL            Yes           No   \n",
       "3               Yes     Fiber optic             No           No   \n",
       "4               Yes     Fiber optic             No          Yes   \n",
       "\n",
       "  DeviceProtection TechSupport StreamingTV StreamingMovies        Contract  \\\n",
       "0               No         Yes          No              No  Month-to-month   \n",
       "1              Yes         Yes          No              No  Month-to-month   \n",
       "2              Yes          No          No             Yes        Two year   \n",
       "3               No          No          No              No  Month-to-month   \n",
       "4              Yes         Yes         Yes             Yes  Month-to-month   \n",
       "\n",
       "  PaperlessBilling            PaymentMethod  MonthlyCharges TotalCharges Churn  \n",
       "0              Yes  Credit card (automatic)           49.50        312.7    No  \n",
       "1              Yes  Credit card (automatic)           55.00       1046.5   Yes  \n",
       "2              Yes  Credit card (automatic)           43.95       2960.1    No  \n",
       "3              Yes         Electronic check           74.35        834.2   Yes  \n",
       "4              Yes         Electronic check          111.15       6953.4    No  "
      ]
     },
     "execution_count": 27,
     "metadata": {},
     "output_type": "execute_result"
    }
   ],
   "source": [
    "# loading the third dataset which is part of the training set\n",
    "data3=pd.read_csv(r'C:\\Users\\user\\Desktop\\LP2\\Telco-Churn-Analysis\\Datasets\\LP2_Telco-churn-last-2000.csv')\n",
    "data3.head()"
   ]
  },
  {
   "cell_type": "code",
   "execution_count": 28,
   "metadata": {},
   "outputs": [
    {
     "name": "stdout",
     "output_type": "stream",
     "text": [
      "<class 'pandas.core.frame.DataFrame'>\n",
      "RangeIndex: 2043 entries, 0 to 2042\n",
      "Data columns (total 21 columns):\n",
      " #   Column            Non-Null Count  Dtype  \n",
      "---  ------            --------------  -----  \n",
      " 0   customerID        2043 non-null   object \n",
      " 1   gender            2043 non-null   object \n",
      " 2   SeniorCitizen     2043 non-null   int64  \n",
      " 3   Partner           2043 non-null   object \n",
      " 4   Dependents        2043 non-null   object \n",
      " 5   tenure            2043 non-null   int64  \n",
      " 6   PhoneService      2043 non-null   object \n",
      " 7   MultipleLines     2043 non-null   object \n",
      " 8   InternetService   2043 non-null   object \n",
      " 9   OnlineSecurity    2043 non-null   object \n",
      " 10  OnlineBackup      2043 non-null   object \n",
      " 11  DeviceProtection  2043 non-null   object \n",
      " 12  TechSupport       2043 non-null   object \n",
      " 13  StreamingTV       2043 non-null   object \n",
      " 14  StreamingMovies   2043 non-null   object \n",
      " 15  Contract          2043 non-null   object \n",
      " 16  PaperlessBilling  2043 non-null   object \n",
      " 17  PaymentMethod     2043 non-null   object \n",
      " 18  MonthlyCharges    2043 non-null   float64\n",
      " 19  TotalCharges      2043 non-null   object \n",
      " 20  Churn             2043 non-null   object \n",
      "dtypes: float64(1), int64(2), object(18)\n",
      "memory usage: 335.3+ KB\n"
     ]
    }
   ],
   "source": [
    "data3.info()"
   ]
  },
  {
   "cell_type": "markdown",
   "metadata": {},
   "source": [
    "### the third dataset does not also have null values"
   ]
  },
  {
   "cell_type": "code",
   "execution_count": 29,
   "metadata": {},
   "outputs": [
    {
     "data": {
      "text/plain": [
       "customerID          2043\n",
       "gender                 2\n",
       "SeniorCitizen          2\n",
       "Partner                2\n",
       "Dependents             2\n",
       "tenure                73\n",
       "PhoneService           2\n",
       "MultipleLines          3\n",
       "InternetService        3\n",
       "OnlineSecurity         3\n",
       "OnlineBackup           3\n",
       "DeviceProtection       3\n",
       "TechSupport            3\n",
       "StreamingTV            3\n",
       "StreamingMovies        3\n",
       "Contract               3\n",
       "PaperlessBilling       2\n",
       "PaymentMethod          4\n",
       "MonthlyCharges      1029\n",
       "TotalCharges        1991\n",
       "Churn                  2\n",
       "dtype: int64"
      ]
     },
     "execution_count": 29,
     "metadata": {},
     "output_type": "execute_result"
    }
   ],
   "source": [
    "data3.nunique()"
   ]
  },
  {
   "cell_type": "code",
   "execution_count": 30,
   "metadata": {},
   "outputs": [],
   "source": [
    "# Define the file path to save the CSV file on your desktop\n",
    "file_path = \"C:/Users/user/Desktop/LP2/Telco-Churn-Analysis/Datasets/train2.csv\"\n",
    "# Save the data as a CSV file\n",
    "data3.to_csv(file_path,  index=False)"
   ]
  },
  {
   "cell_type": "code",
   "execution_count": 31,
   "metadata": {},
   "outputs": [
    {
     "name": "stdout",
     "output_type": "stream",
     "text": [
      "Info of data1:\n",
      "<class 'pandas.core.frame.DataFrame'>\n",
      "RangeIndex: 3000 entries, 0 to 2999\n",
      "Data columns (total 21 columns):\n",
      " #   Column            Non-Null Count  Dtype  \n",
      "---  ------            --------------  -----  \n",
      " 0   customerID        3000 non-null   object \n",
      " 1   gender            3000 non-null   object \n",
      " 2   SeniorCitizen     3000 non-null   bool   \n",
      " 3   Partner           3000 non-null   bool   \n",
      " 4   Dependents        3000 non-null   bool   \n",
      " 5   tenure            3000 non-null   int64  \n",
      " 6   PhoneService      3000 non-null   bool   \n",
      " 7   MultipleLines     2731 non-null   object \n",
      " 8   InternetService   3000 non-null   object \n",
      " 9   OnlineSecurity    2349 non-null   object \n",
      " 10  OnlineBackup      2349 non-null   object \n",
      " 11  DeviceProtection  2349 non-null   object \n",
      " 12  TechSupport       2349 non-null   object \n",
      " 13  StreamingTV       2349 non-null   object \n",
      " 14  StreamingMovies   2349 non-null   object \n",
      " 15  Contract          3000 non-null   object \n",
      " 16  PaperlessBilling  3000 non-null   bool   \n",
      " 17  PaymentMethod     3000 non-null   object \n",
      " 18  MonthlyCharges    3000 non-null   float64\n",
      " 19  TotalCharges      2995 non-null   float64\n",
      " 20  Churn             2999 non-null   object \n",
      "dtypes: bool(5), float64(2), int64(1), object(13)\n",
      "memory usage: 389.8+ KB\n",
      "None\n",
      "\n",
      "Info of data2:\n",
      "<class 'pandas.core.frame.DataFrame'>\n",
      "RangeIndex: 2043 entries, 0 to 2042\n",
      "Data columns (total 21 columns):\n",
      " #   Column            Non-Null Count  Dtype  \n",
      "---  ------            --------------  -----  \n",
      " 0   customerID        2043 non-null   object \n",
      " 1   gender            2043 non-null   object \n",
      " 2   SeniorCitizen     2043 non-null   int64  \n",
      " 3   Partner           2043 non-null   object \n",
      " 4   Dependents        2043 non-null   object \n",
      " 5   tenure            2043 non-null   int64  \n",
      " 6   PhoneService      2043 non-null   object \n",
      " 7   MultipleLines     2043 non-null   object \n",
      " 8   InternetService   2043 non-null   object \n",
      " 9   OnlineSecurity    2043 non-null   object \n",
      " 10  OnlineBackup      2043 non-null   object \n",
      " 11  DeviceProtection  2043 non-null   object \n",
      " 12  TechSupport       2043 non-null   object \n",
      " 13  StreamingTV       2043 non-null   object \n",
      " 14  StreamingMovies   2043 non-null   object \n",
      " 15  Contract          2043 non-null   object \n",
      " 16  PaperlessBilling  2043 non-null   object \n",
      " 17  PaymentMethod     2043 non-null   object \n",
      " 18  MonthlyCharges    2043 non-null   float64\n",
      " 19  TotalCharges      2043 non-null   object \n",
      " 20  Churn             2043 non-null   object \n",
      "dtypes: float64(1), int64(2), object(18)\n",
      "memory usage: 335.3+ KB\n",
      "None\n"
     ]
    }
   ],
   "source": [
    "# Display the info of data1\n",
    "print(\"Info of data1:\")\n",
    "print(data.info())\n",
    "\n",
    "# Display the info of data2\n",
    "print(\"\\nInfo of data2:\")\n",
    "print(data3.info())"
   ]
  },
  {
   "cell_type": "markdown",
   "metadata": {},
   "source": [
    "## 3.2 Exploratory Data Analysis: EDA\n",
    "### in this section we inspect the datasets in depth and conduct a univariate, bivariate and multivariate analysis and test the hypothesis to further understand the patterns and trends in the dataset."
   ]
  },
  {
   "cell_type": "markdown",
   "metadata": {},
   "source": [
    "### lets look at the unique values of each column in the training datasets and handle inconsistencies to merge the two datasets"
   ]
  },
  {
   "cell_type": "code",
   "execution_count": 32,
   "metadata": {},
   "outputs": [
    {
     "name": "stdout",
     "output_type": "stream",
     "text": [
      "                 DataFrame 1                DataFrame 3               \n",
      "                   Data Type Non-Null Count   Data Type Non-Null Count\n",
      "Column Name                                                           \n",
      "customerID            object           3000      object           2043\n",
      "gender                object           3000      object           2043\n",
      "SeniorCitizen           bool           3000       int64           2043\n",
      "Partner                 bool           3000      object           2043\n",
      "Dependents              bool           3000      object           2043\n",
      "tenure                 int64           3000       int64           2043\n",
      "PhoneService            bool           3000      object           2043\n",
      "MultipleLines         object           2731      object           2043\n",
      "InternetService       object           3000      object           2043\n",
      "OnlineSecurity        object           2349      object           2043\n",
      "OnlineBackup          object           2349      object           2043\n",
      "DeviceProtection      object           2349      object           2043\n",
      "TechSupport           object           2349      object           2043\n",
      "StreamingTV           object           2349      object           2043\n",
      "StreamingMovies       object           2349      object           2043\n",
      "Contract              object           3000      object           2043\n",
      "PaperlessBilling        bool           3000      object           2043\n",
      "PaymentMethod         object           3000      object           2043\n",
      "MonthlyCharges       float64           3000     float64           2043\n",
      "TotalCharges         float64           2995      object           2043\n",
      "Churn                 object           2999      object           2043\n"
     ]
    }
   ],
   "source": [
    "# Compare the two DataFrames data and data3 side-by-side\n",
    "\n",
    "# Create custom summary DataFrames for each DataFrame\n",
    "summary_data = pd.DataFrame({'Column Name': data.columns, 'Data Type': data.dtypes, 'Non-Null Count': data.count()})\n",
    "summary_data3 = pd.DataFrame({'Column Name': data3.columns, 'Data Type': data3.dtypes, 'Non-Null Count': data3.count()})\n",
    "\n",
    "# Set 'Column Name' as the index for both summary DataFrames\n",
    "summary_data.set_index('Column Name', inplace=True)\n",
    "summary_data3.set_index('Column Name', inplace=True)\n",
    "\n",
    "# Concatenate the two summary DataFrames side by side\n",
    "comparison = pd.concat([summary_data, summary_data3], axis=1, keys=['DataFrame 1', 'DataFrame 3'])\n",
    "\n",
    "# Print the side-by-side comparison\n",
    "print(comparison)"
   ]
  },
  {
   "cell_type": "code",
   "execution_count": 33,
   "metadata": {},
   "outputs": [],
   "source": [
    "# lets first drop the customer ID column as we do need it for this analysis\n",
    "data=data.drop('customerID', axis=1)\n",
    "data3=data3.drop('customerID', axis=1)"
   ]
  },
  {
   "cell_type": "code",
   "execution_count": 34,
   "metadata": {},
   "outputs": [
    {
     "data": {
      "text/plain": [
       "SeniorCitizen\n",
       "No     1699\n",
       "Yes     344\n",
       "Name: count, dtype: int64"
      ]
     },
     "execution_count": 34,
     "metadata": {},
     "output_type": "execute_result"
    }
   ],
   "source": [
    "# replacing the encoded column values with No and Yes to match with the first training set\n",
    "data3['SeniorCitizen']=data3['SeniorCitizen'].replace([0,1],['No','Yes'])\n",
    "data3['SeniorCitizen'].value_counts()"
   ]
  },
  {
   "cell_type": "code",
   "execution_count": 35,
   "metadata": {},
   "outputs": [],
   "source": [
    "#  lets convert boolean-like values (e.g., 'True' and 'False') to more human-readable forms (e.g., 'Yes' and 'No') to match with the second dataset\n",
    "data['SeniorCitizen'] = data['SeniorCitizen'].replace([False,True], ['No', 'Yes'])\n",
    "data['Partner'] = data['Partner'].replace([False, True],['No','Yes'])\n",
    "data['Dependents'] = data['Dependents'].replace([False, True],['No','Yes'])\n",
    "data['PhoneService'] = data['PhoneService'].replace([False, True],['No','Yes'])\n",
    "data['MultipleLines'] = data['MultipleLines'].replace([False, True],['No','Yes'])\n",
    "data['OnlineSecurity'] = data['OnlineSecurity'].replace([False, True],['No','Yes'])\n",
    "data['OnlineBackup'] = data['OnlineBackup'].replace([False, True],['No','Yes'])\n",
    "data['DeviceProtection'] = data['DeviceProtection'].replace([False, True],['No','Yes'])\n",
    "data['TechSupport'] = data['TechSupport'].replace([False, True],['No','Yes'])\n",
    "data['StreamingTV'] = data['StreamingTV'].replace([False, True],['No','Yes'])\n",
    "data['StreamingMovies'] = data['StreamingMovies'].replace([False, True],['No','Yes'])\n",
    "data['PaperlessBilling'] = data['PaperlessBilling'].replace([False, True],['No','Yes'])\n",
    "data['Churn'] = data['Churn'].replace([False, True],['No','Yes'])"
   ]
  },
  {
   "cell_type": "code",
   "execution_count": 36,
   "metadata": {},
   "outputs": [
    {
     "name": "stdout",
     "output_type": "stream",
     "text": [
      "SeniorCitizen\n",
      "No     2525\n",
      "Yes     475\n",
      "Name: count, dtype: int64\n",
      "SeniorCitizen\n",
      "No     1699\n",
      "Yes     344\n",
      "Name: count, dtype: int64\n",
      "Partner\n",
      "No     1538\n",
      "Yes    1462\n",
      "Name: count, dtype: int64\n",
      "Partner\n",
      "No     1047\n",
      "Yes     996\n",
      "Name: count, dtype: int64\n",
      "Dependents\n",
      "No     2070\n",
      "Yes     930\n",
      "Name: count, dtype: int64\n",
      "Dependents\n",
      "No     1412\n",
      "Yes     631\n",
      "Name: count, dtype: int64\n",
      "PhoneService\n",
      "Yes    2731\n",
      "No      269\n",
      "Name: count, dtype: int64\n",
      "PhoneService\n",
      "Yes    1823\n",
      "No      220\n",
      "Name: count, dtype: int64\n",
      "MultipleLines\n",
      "No     1437\n",
      "Yes    1294\n",
      "Name: count, dtype: int64\n",
      "MultipleLines\n",
      "No                  987\n",
      "Yes                 836\n",
      "No phone service    220\n",
      "Name: count, dtype: int64\n",
      "OnlineSecurity\n",
      "No     1478\n",
      "Yes     871\n",
      "Name: count, dtype: int64\n",
      "OnlineSecurity\n",
      "No                     1029\n",
      "Yes                     585\n",
      "No internet service     429\n",
      "Name: count, dtype: int64\n",
      "DeviceProtection\n",
      "No     1296\n",
      "Yes    1053\n",
      "Name: count, dtype: int64\n",
      "DeviceProtection\n",
      "No                     923\n",
      "Yes                    691\n",
      "No internet service    429\n",
      "Name: count, dtype: int64\n",
      "TechSupport\n",
      "No     1476\n",
      "Yes     873\n",
      "Name: count, dtype: int64\n",
      "TechSupport\n",
      "No                     996\n",
      "Yes                    618\n",
      "No internet service    429\n",
      "Name: count, dtype: int64\n",
      "StreamingTV\n",
      "No     1190\n",
      "Yes    1159\n",
      "Name: count, dtype: int64\n",
      "StreamingTV\n",
      "No                     828\n",
      "Yes                    786\n",
      "No internet service    429\n",
      "Name: count, dtype: int64\n",
      "PaperlessBilling\n",
      "Yes    1776\n",
      "No     1224\n",
      "Name: count, dtype: int64\n",
      "PaperlessBilling\n",
      "Yes    1220\n",
      "No      823\n",
      "Name: count, dtype: int64\n",
      "Churn\n",
      "No     2219\n",
      "Yes     780\n",
      "Name: count, dtype: int64\n",
      "Churn\n",
      "No     1487\n",
      "Yes     556\n",
      "Name: count, dtype: int64\n"
     ]
    }
   ],
   "source": [
    "print(data['SeniorCitizen'].value_counts())\n",
    "print(data3['SeniorCitizen'].value_counts())\n",
    "print(data['Partner'].value_counts())\n",
    "print(data3['Partner'].value_counts())\n",
    "print(data['Dependents'].value_counts())\n",
    "print(data3['Dependents'].value_counts())\n",
    "print(data['PhoneService'].value_counts())\n",
    "print(data3['PhoneService'].value_counts())\n",
    "print(data['MultipleLines'].value_counts())\n",
    "print(data3['MultipleLines'].value_counts())\n",
    "print(data['OnlineSecurity'].value_counts())\n",
    "print(data3['OnlineSecurity'].value_counts())\n",
    "print(data['DeviceProtection'].value_counts())\n",
    "print(data3['DeviceProtection'].value_counts())\n",
    "print(data['TechSupport'].value_counts())\n",
    "print(data3['TechSupport'].value_counts())\n",
    "print(data['StreamingTV'].value_counts())\n",
    "print(data3['StreamingTV'].value_counts())\n",
    "print(data['PaperlessBilling'].value_counts())\n",
    "print(data3['PaperlessBilling'].value_counts())\n",
    "print(data['Churn'].value_counts())\n",
    "print(data3['Churn'].value_counts())\n"
   ]
  },
  {
   "cell_type": "code",
   "execution_count": 37,
   "metadata": {},
   "outputs": [
    {
     "name": "stdout",
     "output_type": "stream",
     "text": [
      "                 DataFrame 1                DataFrame 3               \n",
      "                   Data Type Non-Null Count   Data Type Non-Null Count\n",
      "Column Name                                                           \n",
      "gender                object           3000      object           2043\n",
      "SeniorCitizen         object           3000      object           2043\n",
      "Partner               object           3000      object           2043\n",
      "Dependents            object           3000      object           2043\n",
      "tenure                 int64           3000       int64           2043\n",
      "PhoneService          object           3000      object           2043\n",
      "MultipleLines         object           2731      object           2043\n",
      "InternetService       object           3000      object           2043\n",
      "OnlineSecurity        object           2349      object           2043\n",
      "OnlineBackup          object           2349      object           2043\n",
      "DeviceProtection      object           2349      object           2043\n",
      "TechSupport           object           2349      object           2043\n",
      "StreamingTV           object           2349      object           2043\n",
      "StreamingMovies       object           2349      object           2043\n",
      "Contract              object           3000      object           2043\n",
      "PaperlessBilling      object           3000      object           2043\n",
      "PaymentMethod         object           3000      object           2043\n",
      "MonthlyCharges       float64           3000     float64           2043\n",
      "TotalCharges         float64           2995      object           2043\n",
      "Churn                 object           2999      object           2043\n"
     ]
    }
   ],
   "source": [
    "# Confirm the dtypes of the two DataFrames data and data3 side-by-side\n",
    "\n",
    "# Create custom summary DataFrames for each DataFrame\n",
    "summary_data = pd.DataFrame({'Column Name': data.columns, 'Data Type': data.dtypes, 'Non-Null Count': data.count()})\n",
    "summary_data3 = pd.DataFrame({'Column Name': data3.columns, 'Data Type': data3.dtypes, 'Non-Null Count': data3.count()})\n",
    "\n",
    "# Set 'Column Name' as the index for both summary DataFrames\n",
    "summary_data.set_index('Column Name', inplace=True)\n",
    "summary_data3.set_index('Column Name', inplace=True)\n",
    "\n",
    "# Concatenate the two summary DataFrames side by side\n",
    "comparison = pd.concat([summary_data, summary_data3], axis=1, keys=['DataFrame 1', 'DataFrame 3'])\n",
    "\n",
    "# Print the side-by-side comparison\n",
    "print(comparison)"
   ]
  },
  {
   "cell_type": "code",
   "execution_count": 38,
   "metadata": {},
   "outputs": [],
   "source": [
    "# lets convert the TotalCharges column to a float\n",
    "# Replace empty strings with NaN\n",
    "data3['TotalCharges'] = data3['TotalCharges'].replace(' ', np.nan)\n",
    "\n",
    "# Convert the 'TotalCharges' column to float data type\n",
    "data3['TotalCharges'] = data3['TotalCharges'].astype('float64')"
   ]
  },
  {
   "cell_type": "code",
   "execution_count": 39,
   "metadata": {},
   "outputs": [
    {
     "name": "stdout",
     "output_type": "stream",
     "text": [
      "<class 'pandas.core.frame.DataFrame'>\n",
      "RangeIndex: 2043 entries, 0 to 2042\n",
      "Data columns (total 20 columns):\n",
      " #   Column            Non-Null Count  Dtype  \n",
      "---  ------            --------------  -----  \n",
      " 0   gender            2043 non-null   object \n",
      " 1   SeniorCitizen     2043 non-null   object \n",
      " 2   Partner           2043 non-null   object \n",
      " 3   Dependents        2043 non-null   object \n",
      " 4   tenure            2043 non-null   int64  \n",
      " 5   PhoneService      2043 non-null   object \n",
      " 6   MultipleLines     2043 non-null   object \n",
      " 7   InternetService   2043 non-null   object \n",
      " 8   OnlineSecurity    2043 non-null   object \n",
      " 9   OnlineBackup      2043 non-null   object \n",
      " 10  DeviceProtection  2043 non-null   object \n",
      " 11  TechSupport       2043 non-null   object \n",
      " 12  StreamingTV       2043 non-null   object \n",
      " 13  StreamingMovies   2043 non-null   object \n",
      " 14  Contract          2043 non-null   object \n",
      " 15  PaperlessBilling  2043 non-null   object \n",
      " 16  PaymentMethod     2043 non-null   object \n",
      " 17  MonthlyCharges    2043 non-null   float64\n",
      " 18  TotalCharges      2040 non-null   float64\n",
      " 19  Churn             2043 non-null   object \n",
      "dtypes: float64(2), int64(1), object(17)\n",
      "memory usage: 319.3+ KB\n"
     ]
    }
   ],
   "source": [
    "data3.info()"
   ]
  },
  {
   "cell_type": "markdown",
   "metadata": {},
   "source": [
    "## imputing missing values"
   ]
  },
  {
   "cell_type": "code",
   "execution_count": 40,
   "metadata": {},
   "outputs": [
    {
     "data": {
      "text/plain": [
       "gender                0\n",
       "SeniorCitizen         0\n",
       "Partner               0\n",
       "Dependents            0\n",
       "tenure                0\n",
       "PhoneService          0\n",
       "MultipleLines       269\n",
       "InternetService       0\n",
       "OnlineSecurity      651\n",
       "OnlineBackup        651\n",
       "DeviceProtection    651\n",
       "TechSupport         651\n",
       "StreamingTV         651\n",
       "StreamingMovies     651\n",
       "Contract              0\n",
       "PaperlessBilling      0\n",
       "PaymentMethod         0\n",
       "MonthlyCharges        0\n",
       "TotalCharges          5\n",
       "Churn                 1\n",
       "dtype: int64"
      ]
     },
     "execution_count": 40,
     "metadata": {},
     "output_type": "execute_result"
    }
   ],
   "source": [
    "# lets look at the missing values in the first training set\n",
    "data.isna().sum()"
   ]
  },
  {
   "cell_type": "code",
   "execution_count": 41,
   "metadata": {},
   "outputs": [
    {
     "data": {
      "text/plain": [
       "Index(['gender', 'SeniorCitizen', 'Partner', 'Dependents', 'PhoneService',\n",
       "       'MultipleLines', 'InternetService', 'OnlineSecurity', 'OnlineBackup',\n",
       "       'DeviceProtection', 'TechSupport', 'StreamingTV', 'StreamingMovies',\n",
       "       'Contract', 'PaperlessBilling', 'PaymentMethod', 'Churn'],\n",
       "      dtype='object')"
      ]
     },
     "execution_count": 41,
     "metadata": {},
     "output_type": "execute_result"
    }
   ],
   "source": [
    "# imputing the missing values\n",
    "obj=data.select_dtypes(include='object')\n",
    "obj.columns"
   ]
  },
  {
   "cell_type": "code",
   "execution_count": 42,
   "metadata": {},
   "outputs": [],
   "source": [
    "obj=['MultipleLines','OnlineSecurity', 'OnlineBackup','DeviceProtection', 'TechSupport', 'StreamingTV', 'StreamingMovies','Churn']"
   ]
  },
  {
   "cell_type": "code",
   "execution_count": 43,
   "metadata": {},
   "outputs": [],
   "source": [
    "# use mode to impute missing value in object columns\n",
    "data[obj]=data[obj].fillna(data[obj].mode().iloc[0])"
   ]
  },
  {
   "cell_type": "code",
   "execution_count": 44,
   "metadata": {},
   "outputs": [
    {
     "data": {
      "text/plain": [
       "gender              0\n",
       "SeniorCitizen       0\n",
       "Partner             0\n",
       "Dependents          0\n",
       "tenure              0\n",
       "PhoneService        0\n",
       "MultipleLines       0\n",
       "InternetService     0\n",
       "OnlineSecurity      0\n",
       "OnlineBackup        0\n",
       "DeviceProtection    0\n",
       "TechSupport         0\n",
       "StreamingTV         0\n",
       "StreamingMovies     0\n",
       "Contract            0\n",
       "PaperlessBilling    0\n",
       "PaymentMethod       0\n",
       "MonthlyCharges      0\n",
       "TotalCharges        5\n",
       "Churn               0\n",
       "dtype: int64"
      ]
     },
     "execution_count": 44,
     "metadata": {},
     "output_type": "execute_result"
    }
   ],
   "source": [
    "data.isna().sum()"
   ]
  },
  {
   "cell_type": "code",
   "execution_count": 45,
   "metadata": {},
   "outputs": [
    {
     "data": {
      "text/plain": [
       "gender              0\n",
       "SeniorCitizen       0\n",
       "Partner             0\n",
       "Dependents          0\n",
       "tenure              0\n",
       "PhoneService        0\n",
       "MultipleLines       0\n",
       "InternetService     0\n",
       "OnlineSecurity      0\n",
       "OnlineBackup        0\n",
       "DeviceProtection    0\n",
       "TechSupport         0\n",
       "StreamingTV         0\n",
       "StreamingMovies     0\n",
       "Contract            0\n",
       "PaperlessBilling    0\n",
       "PaymentMethod       0\n",
       "MonthlyCharges      0\n",
       "TotalCharges        3\n",
       "Churn               0\n",
       "dtype: int64"
      ]
     },
     "execution_count": 45,
     "metadata": {},
     "output_type": "execute_result"
    }
   ],
   "source": [
    "# lets look at the missing values in the second training set\n",
    "data3.isna().sum()"
   ]
  },
  {
   "cell_type": "code",
   "execution_count": 46,
   "metadata": {},
   "outputs": [],
   "source": [
    "# lets drop the missing values in totalcharges in both training datasets\n",
    "data=data.dropna(subset='TotalCharges')\n",
    "data3=data3.dropna(subset='TotalCharges')"
   ]
  },
  {
   "cell_type": "code",
   "execution_count": 47,
   "metadata": {},
   "outputs": [],
   "source": [
    "# now lets merge the training dataset and do a univariate, bivariate and multivariate analysis\n",
    "df_train=pd.concat([data,data3])"
   ]
  },
  {
   "cell_type": "code",
   "execution_count": 48,
   "metadata": {},
   "outputs": [],
   "source": [
    "# save the merged dataset\n",
    "# Define the file path to save the CSV file on your desktop\n",
    "file_path = \"C:/Users/user/Desktop/LP2/Telco-Churn-Analysis/Datasets/df_train.csv\"\n",
    "df_train.to_csv(file_path,  index=False)"
   ]
  },
  {
   "cell_type": "code",
   "execution_count": 49,
   "metadata": {},
   "outputs": [
    {
     "data": {
      "text/plain": [
       "gender              0\n",
       "SeniorCitizen       0\n",
       "Partner             0\n",
       "Dependents          0\n",
       "tenure              0\n",
       "PhoneService        0\n",
       "MultipleLines       0\n",
       "InternetService     0\n",
       "OnlineSecurity      0\n",
       "OnlineBackup        0\n",
       "DeviceProtection    0\n",
       "TechSupport         0\n",
       "StreamingTV         0\n",
       "StreamingMovies     0\n",
       "Contract            0\n",
       "PaperlessBilling    0\n",
       "PaymentMethod       0\n",
       "MonthlyCharges      0\n",
       "TotalCharges        0\n",
       "Churn               0\n",
       "dtype: int64"
      ]
     },
     "execution_count": 49,
     "metadata": {},
     "output_type": "execute_result"
    }
   ],
   "source": [
    "# lets check the missing values in the merged train datasets\n",
    "df_train.isna().sum()"
   ]
  },
  {
   "cell_type": "markdown",
   "metadata": {},
   "source": [
    "## Handle outliers"
   ]
  },
  {
   "cell_type": "code",
   "execution_count": 50,
   "metadata": {},
   "outputs": [
    {
     "data": {
      "image/png": "[encoded data removed]",
      "text/plain": [
       "<Figure size 1200x600 with 2 Axes>"
      ]
     },
     "metadata": {},
     "output_type": "display_data"
    }
   ],
   "source": [
    "# we have handled the null values in training data now lets look at the outliers\n",
    "# lets Create a box plot to have a look at the outliers in the monthly charges attribute\n",
    "\n",
    "# Create a figure with 1 row and 2 columns for the subplots\n",
    "plt.figure(figsize=(12, 6))\n",
    "\n",
    "# Create the first subplot for Monthly Charges\n",
    "plt.subplot(1, 2, 1)\n",
    "plt.boxplot(df_train['MonthlyCharges'])\n",
    "plt.ylabel('Monthly Charges')\n",
    "plt.title('Box Plot of Monthly Charges')\n",
    "\n",
    "# Create the second subplot for Total Charges\n",
    "plt.subplot(1, 2, 2)\n",
    "plt.boxplot(df_train['TotalCharges'])\n",
    "plt.ylabel('Total Charges')\n",
    "plt.title('Box Plot of Total Charges')\n",
    "\n",
    "# Show the plots\n",
    "plt.show()\n",
    "\n"
   ]
  },
  {
   "cell_type": "code",
   "execution_count": 51,
   "metadata": {},
   "outputs": [
    {
     "name": "stdout",
     "output_type": "stream",
     "text": [
      "Number of outliers in MonthlyCharges: 0\n"
     ]
    }
   ],
   "source": [
    "# Calculate the 25th and 75th percentiles (Q1 and Q3) of MonthlyCharges\n",
    "Q1 = df_train['MonthlyCharges'].quantile(0.25)\n",
    "Q3 = df_train['MonthlyCharges'].quantile(0.75)\n",
    "\n",
    "# Calculate the Interquartile Range (IQR)\n",
    "IQR = Q3 - Q1\n",
    "\n",
    "# Define the lower and upper bounds for outliers\n",
    "lower_bound = Q1 - 1.5 * IQR\n",
    "upper_bound = Q3 + 1.5 * IQR\n",
    "\n",
    "# Count the number of outliers in MonthlyCharges\n",
    "num_outliers = df_train[(df_train['MonthlyCharges'] < lower_bound) | (df_train['MonthlyCharges'] > upper_bound)].shape[0]\n",
    "\n",
    "# Print the number of outliers\n",
    "print(\"Number of outliers in MonthlyCharges:\", num_outliers)\n"
   ]
  },
  {
   "cell_type": "code",
   "execution_count": 52,
   "metadata": {},
   "outputs": [
    {
     "name": "stdout",
     "output_type": "stream",
     "text": [
      "Number of outliers in TotalCharges: 0\n"
     ]
    }
   ],
   "source": [
    "# Calculate the 25th and 75th percentiles (Q1 and Q3) of TotalCharges\n",
    "Q1 = df_train['TotalCharges'].quantile(0.25)\n",
    "Q3 = df_train['TotalCharges'].quantile(0.75)\n",
    "\n",
    "# Calculate the Interquartile Range (IQR)\n",
    "IQR = Q3 - Q1\n",
    "\n",
    "# Define the lower and upper bounds for outliers\n",
    "lower_bound = Q1 - 1.5 * IQR\n",
    "upper_bound = Q3 + 1.5 * IQR\n",
    "\n",
    "# Count the number of outliers in TotalCharges\n",
    "num_outliers = df_train[(df_train['TotalCharges'] < lower_bound) | (df_train['TotalCharges'] > upper_bound)].shape[0]\n",
    "\n",
    "# Print the number of outliers\n",
    "print(\"Number of outliers in TotalCharges:\", num_outliers)\n"
   ]
  },
  {
   "cell_type": "markdown",
   "metadata": {},
   "source": [
    "## Handle duplicates"
   ]
  },
  {
   "cell_type": "code",
   "execution_count": 53,
   "metadata": {},
   "outputs": [
    {
     "name": "stdout",
     "output_type": "stream",
     "text": [
      "Number of duplicates in train dataset: 10\n"
     ]
    }
   ],
   "source": [
    "# now that we have confirmed that there are no outliers, lets look at the duplicates\n",
    "print(\"Number of duplicates in train dataset:\", df_train.duplicated().sum())"
   ]
  },
  {
   "cell_type": "code",
   "execution_count": 54,
   "metadata": {},
   "outputs": [
    {
     "data": {
      "text/html": [
       "<div>\n",
       "<style scoped>\n",
       "    .dataframe tbody tr th:only-of-type {\n",
       "        vertical-align: middle;\n",
       "    }\n",
       "\n",
       "    .dataframe tbody tr th {\n",
       "        vertical-align: top;\n",
       "    }\n",
       "\n",
       "    .dataframe thead th {\n",
       "        text-align: right;\n",
       "    }\n",
       "</style>\n",
       "<table border=\"1\" class=\"dataframe\">\n",
       "  <thead>\n",
       "    <tr style=\"text-align: right;\">\n",
       "      <th></th>\n",
       "      <th>gender</th>\n",
       "      <th>SeniorCitizen</th>\n",
       "      <th>Partner</th>\n",
       "      <th>Dependents</th>\n",
       "      <th>tenure</th>\n",
       "      <th>PhoneService</th>\n",
       "      <th>MultipleLines</th>\n",
       "      <th>InternetService</th>\n",
       "      <th>OnlineSecurity</th>\n",
       "      <th>OnlineBackup</th>\n",
       "      <th>DeviceProtection</th>\n",
       "      <th>TechSupport</th>\n",
       "      <th>StreamingTV</th>\n",
       "      <th>StreamingMovies</th>\n",
       "      <th>Contract</th>\n",
       "      <th>PaperlessBilling</th>\n",
       "      <th>PaymentMethod</th>\n",
       "      <th>MonthlyCharges</th>\n",
       "      <th>TotalCharges</th>\n",
       "      <th>Churn</th>\n",
       "    </tr>\n",
       "  </thead>\n",
       "  <tbody>\n",
       "    <tr>\n",
       "      <th>964</th>\n",
       "      <td>Male</td>\n",
       "      <td>No</td>\n",
       "      <td>No</td>\n",
       "      <td>No</td>\n",
       "      <td>1</td>\n",
       "      <td>Yes</td>\n",
       "      <td>No</td>\n",
       "      <td>DSL</td>\n",
       "      <td>No</td>\n",
       "      <td>No</td>\n",
       "      <td>No</td>\n",
       "      <td>No</td>\n",
       "      <td>No</td>\n",
       "      <td>No</td>\n",
       "      <td>Month-to-month</td>\n",
       "      <td>Yes</td>\n",
       "      <td>Mailed check</td>\n",
       "      <td>45.700001</td>\n",
       "      <td>45.700001</td>\n",
       "      <td>Yes</td>\n",
       "    </tr>\n",
       "    <tr>\n",
       "      <th>1338</th>\n",
       "      <td>Male</td>\n",
       "      <td>No</td>\n",
       "      <td>No</td>\n",
       "      <td>No</td>\n",
       "      <td>1</td>\n",
       "      <td>Yes</td>\n",
       "      <td>No</td>\n",
       "      <td>No</td>\n",
       "      <td>No</td>\n",
       "      <td>No</td>\n",
       "      <td>No</td>\n",
       "      <td>No</td>\n",
       "      <td>No</td>\n",
       "      <td>Yes</td>\n",
       "      <td>Month-to-month</td>\n",
       "      <td>No</td>\n",
       "      <td>Mailed check</td>\n",
       "      <td>20.150000</td>\n",
       "      <td>20.150000</td>\n",
       "      <td>Yes</td>\n",
       "    </tr>\n",
       "    <tr>\n",
       "      <th>1491</th>\n",
       "      <td>Female</td>\n",
       "      <td>No</td>\n",
       "      <td>No</td>\n",
       "      <td>No</td>\n",
       "      <td>1</td>\n",
       "      <td>Yes</td>\n",
       "      <td>No</td>\n",
       "      <td>No</td>\n",
       "      <td>No</td>\n",
       "      <td>No</td>\n",
       "      <td>No</td>\n",
       "      <td>No</td>\n",
       "      <td>No</td>\n",
       "      <td>Yes</td>\n",
       "      <td>Month-to-month</td>\n",
       "      <td>No</td>\n",
       "      <td>Mailed check</td>\n",
       "      <td>19.549999</td>\n",
       "      <td>19.549999</td>\n",
       "      <td>No</td>\n",
       "    </tr>\n",
       "    <tr>\n",
       "      <th>1739</th>\n",
       "      <td>Male</td>\n",
       "      <td>No</td>\n",
       "      <td>No</td>\n",
       "      <td>No</td>\n",
       "      <td>1</td>\n",
       "      <td>Yes</td>\n",
       "      <td>No</td>\n",
       "      <td>Fiber optic</td>\n",
       "      <td>No</td>\n",
       "      <td>No</td>\n",
       "      <td>No</td>\n",
       "      <td>No</td>\n",
       "      <td>No</td>\n",
       "      <td>No</td>\n",
       "      <td>Month-to-month</td>\n",
       "      <td>Yes</td>\n",
       "      <td>Electronic check</td>\n",
       "      <td>69.900002</td>\n",
       "      <td>69.900002</td>\n",
       "      <td>Yes</td>\n",
       "    </tr>\n",
       "    <tr>\n",
       "      <th>1932</th>\n",
       "      <td>Male</td>\n",
       "      <td>No</td>\n",
       "      <td>No</td>\n",
       "      <td>No</td>\n",
       "      <td>1</td>\n",
       "      <td>Yes</td>\n",
       "      <td>No</td>\n",
       "      <td>No</td>\n",
       "      <td>No</td>\n",
       "      <td>No</td>\n",
       "      <td>No</td>\n",
       "      <td>No</td>\n",
       "      <td>No</td>\n",
       "      <td>Yes</td>\n",
       "      <td>Month-to-month</td>\n",
       "      <td>No</td>\n",
       "      <td>Mailed check</td>\n",
       "      <td>20.200001</td>\n",
       "      <td>20.200001</td>\n",
       "      <td>No</td>\n",
       "    </tr>\n",
       "    <tr>\n",
       "      <th>2713</th>\n",
       "      <td>Male</td>\n",
       "      <td>No</td>\n",
       "      <td>No</td>\n",
       "      <td>No</td>\n",
       "      <td>1</td>\n",
       "      <td>Yes</td>\n",
       "      <td>No</td>\n",
       "      <td>No</td>\n",
       "      <td>No</td>\n",
       "      <td>No</td>\n",
       "      <td>No</td>\n",
       "      <td>No</td>\n",
       "      <td>No</td>\n",
       "      <td>Yes</td>\n",
       "      <td>Month-to-month</td>\n",
       "      <td>Yes</td>\n",
       "      <td>Mailed check</td>\n",
       "      <td>20.450001</td>\n",
       "      <td>20.450001</td>\n",
       "      <td>No</td>\n",
       "    </tr>\n",
       "    <tr>\n",
       "      <th>2892</th>\n",
       "      <td>Male</td>\n",
       "      <td>No</td>\n",
       "      <td>No</td>\n",
       "      <td>No</td>\n",
       "      <td>1</td>\n",
       "      <td>Yes</td>\n",
       "      <td>No</td>\n",
       "      <td>No</td>\n",
       "      <td>No</td>\n",
       "      <td>No</td>\n",
       "      <td>No</td>\n",
       "      <td>No</td>\n",
       "      <td>No</td>\n",
       "      <td>Yes</td>\n",
       "      <td>Month-to-month</td>\n",
       "      <td>No</td>\n",
       "      <td>Mailed check</td>\n",
       "      <td>20.450001</td>\n",
       "      <td>20.450001</td>\n",
       "      <td>No</td>\n",
       "    </tr>\n",
       "    <tr>\n",
       "      <th>759</th>\n",
       "      <td>Female</td>\n",
       "      <td>No</td>\n",
       "      <td>No</td>\n",
       "      <td>No</td>\n",
       "      <td>1</td>\n",
       "      <td>Yes</td>\n",
       "      <td>No</td>\n",
       "      <td>Fiber optic</td>\n",
       "      <td>No</td>\n",
       "      <td>No</td>\n",
       "      <td>No</td>\n",
       "      <td>No</td>\n",
       "      <td>No</td>\n",
       "      <td>No</td>\n",
       "      <td>Month-to-month</td>\n",
       "      <td>Yes</td>\n",
       "      <td>Mailed check</td>\n",
       "      <td>70.150000</td>\n",
       "      <td>70.150000</td>\n",
       "      <td>Yes</td>\n",
       "    </tr>\n",
       "    <tr>\n",
       "      <th>1764</th>\n",
       "      <td>Female</td>\n",
       "      <td>No</td>\n",
       "      <td>No</td>\n",
       "      <td>No</td>\n",
       "      <td>1</td>\n",
       "      <td>Yes</td>\n",
       "      <td>No</td>\n",
       "      <td>Fiber optic</td>\n",
       "      <td>No</td>\n",
       "      <td>No</td>\n",
       "      <td>No</td>\n",
       "      <td>No</td>\n",
       "      <td>No</td>\n",
       "      <td>No</td>\n",
       "      <td>Month-to-month</td>\n",
       "      <td>Yes</td>\n",
       "      <td>Electronic check</td>\n",
       "      <td>69.200000</td>\n",
       "      <td>69.200000</td>\n",
       "      <td>Yes</td>\n",
       "    </tr>\n",
       "    <tr>\n",
       "      <th>1774</th>\n",
       "      <td>Female</td>\n",
       "      <td>No</td>\n",
       "      <td>No</td>\n",
       "      <td>No</td>\n",
       "      <td>1</td>\n",
       "      <td>Yes</td>\n",
       "      <td>No</td>\n",
       "      <td>No</td>\n",
       "      <td>No internet service</td>\n",
       "      <td>No internet service</td>\n",
       "      <td>No internet service</td>\n",
       "      <td>No internet service</td>\n",
       "      <td>No internet service</td>\n",
       "      <td>No internet service</td>\n",
       "      <td>Month-to-month</td>\n",
       "      <td>No</td>\n",
       "      <td>Mailed check</td>\n",
       "      <td>19.650000</td>\n",
       "      <td>19.650000</td>\n",
       "      <td>No</td>\n",
       "    </tr>\n",
       "  </tbody>\n",
       "</table>\n",
       "</div>"
      ],
      "text/plain": [
       "      gender SeniorCitizen Partner Dependents  tenure PhoneService  \\\n",
       "964     Male            No      No         No       1          Yes   \n",
       "1338    Male            No      No         No       1          Yes   \n",
       "1491  Female            No      No         No       1          Yes   \n",
       "1739    Male            No      No         No       1          Yes   \n",
       "1932    Male            No      No         No       1          Yes   \n",
       "2713    Male            No      No         No       1          Yes   \n",
       "2892    Male            No      No         No       1          Yes   \n",
       "759   Female            No      No         No       1          Yes   \n",
       "1764  Female            No      No         No       1          Yes   \n",
       "1774  Female            No      No         No       1          Yes   \n",
       "\n",
       "     MultipleLines InternetService       OnlineSecurity         OnlineBackup  \\\n",
       "964             No             DSL                   No                   No   \n",
       "1338            No              No                   No                   No   \n",
       "1491            No              No                   No                   No   \n",
       "1739            No     Fiber optic                   No                   No   \n",
       "1932            No              No                   No                   No   \n",
       "2713            No              No                   No                   No   \n",
       "2892            No              No                   No                   No   \n",
       "759             No     Fiber optic                   No                   No   \n",
       "1764            No     Fiber optic                   No                   No   \n",
       "1774            No              No  No internet service  No internet service   \n",
       "\n",
       "         DeviceProtection          TechSupport          StreamingTV  \\\n",
       "964                    No                   No                   No   \n",
       "1338                   No                   No                   No   \n",
       "1491                   No                   No                   No   \n",
       "1739                   No                   No                   No   \n",
       "1932                   No                   No                   No   \n",
       "2713                   No                   No                   No   \n",
       "2892                   No                   No                   No   \n",
       "759                    No                   No                   No   \n",
       "1764                   No                   No                   No   \n",
       "1774  No internet service  No internet service  No internet service   \n",
       "\n",
       "          StreamingMovies        Contract PaperlessBilling     PaymentMethod  \\\n",
       "964                    No  Month-to-month              Yes      Mailed check   \n",
       "1338                  Yes  Month-to-month               No      Mailed check   \n",
       "1491                  Yes  Month-to-month               No      Mailed check   \n",
       "1739                   No  Month-to-month              Yes  Electronic check   \n",
       "1932                  Yes  Month-to-month               No      Mailed check   \n",
       "2713                  Yes  Month-to-month              Yes      Mailed check   \n",
       "2892                  Yes  Month-to-month               No      Mailed check   \n",
       "759                    No  Month-to-month              Yes      Mailed check   \n",
       "1764                   No  Month-to-month              Yes  Electronic check   \n",
       "1774  No internet service  Month-to-month               No      Mailed check   \n",
       "\n",
       "      MonthlyCharges  TotalCharges Churn  \n",
       "964        45.700001     45.700001   Yes  \n",
       "1338       20.150000     20.150000   Yes  \n",
       "1491       19.549999     19.549999    No  \n",
       "1739       69.900002     69.900002   Yes  \n",
       "1932       20.200001     20.200001    No  \n",
       "2713       20.450001     20.450001    No  \n",
       "2892       20.450001     20.450001    No  \n",
       "759        70.150000     70.150000   Yes  \n",
       "1764       69.200000     69.200000   Yes  \n",
       "1774       19.650000     19.650000    No  "
      ]
     },
     "execution_count": 54,
     "metadata": {},
     "output_type": "execute_result"
    }
   ],
   "source": [
    "# lets have a look at the duplicates\n",
    "# check the duplicate rows\n",
    "df_train.loc[df_train.duplicated()]\n"
   ]
  },
  {
   "cell_type": "code",
   "execution_count": 55,
   "metadata": {},
   "outputs": [],
   "source": [
    "# locking rows without duplicates\n",
    "# remove duplicate rows based on the specified subset of columns\n",
    "df_train=df_train.loc[~df_train.duplicated(subset=['MonthlyCharges','TotalCharges'])].reset_index(drop=True).copy()"
   ]
  },
  {
   "cell_type": "code",
   "execution_count": 56,
   "metadata": {},
   "outputs": [
    {
     "data": {
      "text/plain": [
       "0"
      ]
     },
     "execution_count": 56,
     "metadata": {},
     "output_type": "execute_result"
    }
   ],
   "source": [
    "# lets confirm weather we still have any duplicates\n",
    "df_train.duplicated().sum()"
   ]
  },
  {
   "cell_type": "code",
   "execution_count": 57,
   "metadata": {},
   "outputs": [],
   "source": [
    "# save the clean train dataset\n",
    "# Define the file path to save the CSV file on your desktop\n",
    "file_path = \"C:/Users/user/Desktop/LP2/Telco-Churn-Analysis/Datasets/df_train_clean.csv\"\n",
    "df_train.to_csv(file_path,  index=False)"
   ]
  },
  {
   "cell_type": "code",
   "execution_count": 58,
   "metadata": {},
   "outputs": [
    {
     "name": "stdout",
     "output_type": "stream",
     "text": [
      "                 DataFrame 1                DataFrame 2               \n",
      "                   Data Type Non-Null Count   Data Type Non-Null Count\n",
      "Column Name                                                           \n",
      "gender                object         4928.0      object         2000.0\n",
      "SeniorCitizen         object         4928.0       int64         2000.0\n",
      "Partner               object         4928.0      object         2000.0\n",
      "Dependents            object         4928.0      object         2000.0\n",
      "tenure                 int64         4928.0       int64         2000.0\n",
      "PhoneService          object         4928.0      object         2000.0\n",
      "MultipleLines         object         4928.0      object         2000.0\n",
      "InternetService       object         4928.0      object         2000.0\n",
      "OnlineSecurity        object         4928.0      object         2000.0\n",
      "OnlineBackup          object         4928.0      object         2000.0\n",
      "DeviceProtection      object         4928.0      object         2000.0\n",
      "TechSupport           object         4928.0      object         2000.0\n",
      "StreamingTV           object         4928.0      object         2000.0\n",
      "StreamingMovies       object         4928.0      object         2000.0\n",
      "Contract              object         4928.0      object         2000.0\n",
      "PaperlessBilling      object         4928.0      object         2000.0\n",
      "PaymentMethod         object         4928.0      object         2000.0\n",
      "MonthlyCharges       float64         4928.0     float64         2000.0\n",
      "TotalCharges         float64         4928.0      object         2000.0\n",
      "Churn                 object         4928.0         NaN            NaN\n",
      "customerID               NaN            NaN      object         2000.0\n"
     ]
    }
   ],
   "source": [
    "# lets take a look at the test dataset\n",
    "# Confirm the dtypes of the training and test data side-by-side\n",
    "\n",
    "# Create custom summary DataFrames for each DataFrame\n",
    "summary_train = pd.DataFrame({'Column Name': df_train.columns, 'Data Type': df_train.dtypes, 'Non-Null Count': df_train.count()})\n",
    "summary_test = pd.DataFrame({'Column Name': data2.columns, 'Data Type': data2.dtypes, 'Non-Null Count': data2.count()})\n",
    "\n",
    "# Set 'Column Name' as the index for both summary DataFrames\n",
    "summary_train.set_index('Column Name', inplace=True)\n",
    "summary_test.set_index('Column Name', inplace=True)\n",
    "\n",
    "# Concatenate the two summary DataFrames side by side\n",
    "comparison = pd.concat([summary_train, summary_test], axis=1, keys=['DataFrame 1', 'DataFrame 2'])\n",
    "\n",
    "# Print the side-by-side comparison\n",
    "print(comparison)\n"
   ]
  },
  {
   "cell_type": "code",
   "execution_count": 59,
   "metadata": {},
   "outputs": [],
   "source": [
    "# lets convert the test dataset TotalCharges column to a float\n",
    "# Replace empty strings with NaN\n",
    "data2['TotalCharges'] = data2['TotalCharges'].replace(' ', np.nan)\n",
    "\n",
    "# Convert the 'TotalCharges' column to float data type\n",
    "data2['TotalCharges'] = data2['TotalCharges'].astype('float64')"
   ]
  },
  {
   "cell_type": "code",
   "execution_count": 60,
   "metadata": {},
   "outputs": [
    {
     "data": {
      "text/plain": [
       "customerID          0\n",
       "gender              0\n",
       "SeniorCitizen       0\n",
       "Partner             0\n",
       "Dependents          0\n",
       "tenure              0\n",
       "PhoneService        0\n",
       "MultipleLines       0\n",
       "InternetService     0\n",
       "OnlineSecurity      0\n",
       "OnlineBackup        0\n",
       "DeviceProtection    0\n",
       "TechSupport         0\n",
       "StreamingTV         0\n",
       "StreamingMovies     0\n",
       "Contract            0\n",
       "PaperlessBilling    0\n",
       "PaymentMethod       0\n",
       "MonthlyCharges      0\n",
       "TotalCharges        3\n",
       "dtype: int64"
      ]
     },
     "execution_count": 60,
     "metadata": {},
     "output_type": "execute_result"
    }
   ],
   "source": [
    "data2.isna().sum()"
   ]
  },
  {
   "cell_type": "code",
   "execution_count": 61,
   "metadata": {},
   "outputs": [],
   "source": [
    "# lets drop the missing values in totalcharges in the datasets\n",
    "data2=data2.dropna(subset='TotalCharges')"
   ]
  },
  {
   "cell_type": "code",
   "execution_count": 62,
   "metadata": {},
   "outputs": [],
   "source": [
    "# Drop the 'customerID' column from data2\n",
    "data2.drop('customerID', axis=1, inplace=True)\n"
   ]
  },
  {
   "cell_type": "code",
   "execution_count": 63,
   "metadata": {},
   "outputs": [
    {
     "name": "stdout",
     "output_type": "stream",
     "text": [
      "<class 'pandas.core.frame.DataFrame'>\n",
      "Index: 1997 entries, 0 to 1999\n",
      "Data columns (total 19 columns):\n",
      " #   Column            Non-Null Count  Dtype  \n",
      "---  ------            --------------  -----  \n",
      " 0   gender            1997 non-null   object \n",
      " 1   SeniorCitizen     1997 non-null   int64  \n",
      " 2   Partner           1997 non-null   object \n",
      " 3   Dependents        1997 non-null   object \n",
      " 4   tenure            1997 non-null   int64  \n",
      " 5   PhoneService      1997 non-null   object \n",
      " 6   MultipleLines     1997 non-null   object \n",
      " 7   InternetService   1997 non-null   object \n",
      " 8   OnlineSecurity    1997 non-null   object \n",
      " 9   OnlineBackup      1997 non-null   object \n",
      " 10  DeviceProtection  1997 non-null   object \n",
      " 11  TechSupport       1997 non-null   object \n",
      " 12  StreamingTV       1997 non-null   object \n",
      " 13  StreamingMovies   1997 non-null   object \n",
      " 14  Contract          1997 non-null   object \n",
      " 15  PaperlessBilling  1997 non-null   object \n",
      " 16  PaymentMethod     1997 non-null   object \n",
      " 17  MonthlyCharges    1997 non-null   float64\n",
      " 18  TotalCharges      1997 non-null   float64\n",
      "dtypes: float64(2), int64(2), object(15)\n",
      "memory usage: 312.0+ KB\n"
     ]
    }
   ],
   "source": [
    "data2.info()"
   ]
  },
  {
   "cell_type": "code",
   "execution_count": 64,
   "metadata": {},
   "outputs": [
    {
     "data": {
      "image/png": "[encoded data removed]",
      "text/plain": [
       "<Figure size 1200x600 with 2 Axes>"
      ]
     },
     "metadata": {},
     "output_type": "display_data"
    }
   ],
   "source": [
    "# we have handled the null values in test data now lets look at the outliers\n",
    "# lets Create a box plot to have a look at the outliers in the monthly charges attribute\n",
    "\n",
    "# Create a figure with 1 row and 2 columns for the subplots\n",
    "plt.figure(figsize=(12, 6))\n",
    "\n",
    "# Create the first subplot for Monthly Charges\n",
    "plt.subplot(1, 2, 1)\n",
    "plt.boxplot(data2['MonthlyCharges'])\n",
    "plt.ylabel('Monthly Charges')\n",
    "plt.title('Box Plot of Monthly Charges')\n",
    "\n",
    "# Create the second subplot for Total Charges\n",
    "plt.subplot(1, 2, 2)\n",
    "plt.boxplot(data2['TotalCharges'])\n",
    "plt.ylabel('Total Charges')\n",
    "plt.title('Box Plot of Total Charges')\n",
    "\n",
    "# Show the plots\n",
    "plt.show()\n"
   ]
  },
  {
   "cell_type": "code",
   "execution_count": 65,
   "metadata": {},
   "outputs": [
    {
     "name": "stdout",
     "output_type": "stream",
     "text": [
      "Number of outliers in TotalCharges: 2\n"
     ]
    }
   ],
   "source": [
    "# Calculate the 25th and 75th percentiles (Q1 and Q3) of TotalCharges\n",
    "Q1 = data2['TotalCharges'].quantile(0.25)\n",
    "Q3 = data2['TotalCharges'].quantile(0.75)\n",
    "\n",
    "# Calculate the Interquartile Range (IQR)\n",
    "IQR = Q3 - Q1\n",
    "\n",
    "# Define the lower and upper bounds for outliers\n",
    "lower_bound = Q1 - 1.5 * IQR\n",
    "upper_bound = Q3 + 1.5 * IQR\n",
    "\n",
    "# Count the number of outliers in TotalCharges\n",
    "num_outliers = data2[(data2['TotalCharges'] < lower_bound) | (data2['TotalCharges'] > upper_bound)].shape[0]\n",
    "\n",
    "# Print the number of outliers\n",
    "print(\"Number of outliers in TotalCharges:\", num_outliers)\n"
   ]
  },
  {
   "cell_type": "code",
   "execution_count": 66,
   "metadata": {},
   "outputs": [],
   "source": [
    "# lets remove the outliers in totalcharges by replacing with median\n",
    "data2 = data2[(data2['TotalCharges'] >= lower_bound) & (data2['TotalCharges'] <= upper_bound)]"
   ]
  },
  {
   "cell_type": "code",
   "execution_count": 67,
   "metadata": {},
   "outputs": [
    {
     "name": "stdout",
     "output_type": "stream",
     "text": [
      "Number of duplicates: 3\n"
     ]
    }
   ],
   "source": [
    "# now lets look at the duplicates\n",
    "print(\"Number of duplicates:\", data2.duplicated().sum())"
   ]
  },
  {
   "cell_type": "code",
   "execution_count": 68,
   "metadata": {},
   "outputs": [],
   "source": [
    "# lets remove the duplicates\n",
    "# locking rows without duplicates\n",
    "# remove duplicate rows based on the specified subset of columns\n",
    "data2=data2.loc[~data2.duplicated(subset=['MonthlyCharges','TotalCharges'])].reset_index(drop=True).copy()"
   ]
  },
  {
   "cell_type": "code",
   "execution_count": 69,
   "metadata": {},
   "outputs": [
    {
     "name": "stdout",
     "output_type": "stream",
     "text": [
      "Number of duplicates: 0\n"
     ]
    }
   ],
   "source": [
    "# now lets confirm weather we still have any duplicates\n",
    "print(\"Number of duplicates:\", data2.duplicated().sum())"
   ]
  },
  {
   "cell_type": "code",
   "execution_count": 70,
   "metadata": {},
   "outputs": [],
   "source": [
    "# save the clean test dataset\n",
    "# Define the file path to save the CSV file on your desktop\n",
    "file_path = \"C:/Users/user/Desktop/LP2/Telco-Churn-Analysis/Datasets/df_test.csv\"\n",
    "data2.to_csv(file_path,  index=False)"
   ]
  },
  {
   "cell_type": "markdown",
   "metadata": {},
   "source": [
    "## 3.3 Univariate Analysis\n",
    "### 3.3.1 Analysis of tenure attribute"
   ]
  },
  {
   "cell_type": "code",
   "execution_count": 71,
   "metadata": {},
   "outputs": [
    {
     "data": {
      "text/plain": [
       "count    4928.000000\n",
       "mean       33.315138\n",
       "std        24.327628\n",
       "min         1.000000\n",
       "25%        10.000000\n",
       "50%        30.000000\n",
       "75%        56.000000\n",
       "max        72.000000\n",
       "Name: tenure, dtype: float64"
      ]
     },
     "execution_count": 71,
     "metadata": {},
     "output_type": "execute_result"
    }
   ],
   "source": [
    "# lets look at the statistics\n",
    "df_train['tenure'].describe()"
   ]
  },
  {
   "cell_type": "code",
   "execution_count": 72,
   "metadata": {},
   "outputs": [
    {
     "data": {
      "text/plain": [
       "tenure_group\n",
       "0-12 months     1338\n",
       "61+ months      1078\n",
       "13-24 months     762\n",
       "25-36 months     628\n",
       "49-60 months     579\n",
       "37-48 months     543\n",
       "Name: count, dtype: int64"
      ]
     },
     "execution_count": 72,
     "metadata": {},
     "output_type": "execute_result"
    }
   ],
   "source": [
    "## categorization of tenure group to reveal trends and insights on customer churn across different tenure groups\n",
    "# Define the bins for grouping tenure\n",
    "bins = [0, 12, 24, 36, 48, 60, 1000]  \n",
    "\n",
    "# Define labels for the bins\n",
    "labels = ['0-12 months', '13-24 months', '25-36 months', '37-48 months', '49-60 months', '61+ months']\n",
    "\n",
    "# Group 'tenure' into bins\n",
    "df_train['tenure_group'] = pd.cut(df_train['tenure'], bins=bins, labels=labels, right=False)\n",
    "df_train['tenure_group'].value_counts()"
   ]
  },
  {
   "cell_type": "code",
   "execution_count": 73,
   "metadata": {},
   "outputs": [
    {
     "data": {
      "image/png": "[encoded data removed]",
      "text/plain": [
       "<Figure size 700x500 with 1 Axes>"
      ]
     },
     "metadata": {},
     "output_type": "display_data"
    }
   ],
   "source": [
    "# now lets show the frequency distribution\n",
    "plt.figure(figsize=(7,5))\n",
    "plt.hist(df_train['tenure_group'],bins=11, color='blue', edgecolor='black')\n",
    "plt.xlabel('Tenure')\n",
    "plt.ylabel('Frequency')\n",
    "plt.title('Frequency of Tenure')\n",
    "plt.show();"
   ]
  },
  {
   "cell_type": "markdown",
   "metadata": {},
   "source": [
    "### we can see that most of the customers have stayed for less than one 12 months"
   ]
  },
  {
   "cell_type": "markdown",
   "metadata": {},
   "source": [
    "### Analysis of churn attiribute"
   ]
  },
  {
   "cell_type": "code",
   "execution_count": 74,
   "metadata": {},
   "outputs": [
    {
     "data": {
      "text/plain": [
       "Churn\n",
       "No     3648\n",
       "Yes    1280\n",
       "Name: count, dtype: int64"
      ]
     },
     "execution_count": 74,
     "metadata": {},
     "output_type": "execute_result"
    }
   ],
   "source": [
    "churn_count = df_train['Churn'].value_counts()\n",
    "churn_count"
   ]
  },
  {
   "cell_type": "code",
   "execution_count": 75,
   "metadata": {},
   "outputs": [
    {
     "data": {
      "image/png": "[encoded data removed]",
      "text/plain": [
       "<Figure size 1000x500 with 1 Axes>"
      ]
     },
     "metadata": {},
     "output_type": "display_data"
    }
   ],
   "source": [
    "# lets see the distribution of churn\n",
    "fig, ax = plt.subplots(figsize=(10, 5))\n",
    "# Draw the outer pie chart\n",
    "outer_colors = plt.cm.Paired(range(len(churn_count)))\n",
    "ax.pie(churn_count.values, labels=churn_count.index, colors=outer_colors, radius=1, autopct='%1.1f%%', startangle=90)\n",
    "# Draw the inner pie chart to create the doughnut effect\n",
    "ax.pie([1], colors='white', radius=0.4)\n",
    "ax.set(aspect='equal')\n",
    "plt.title('Churn Distribution')\n",
    "plt.show()"
   ]
  },
  {
   "cell_type": "markdown",
   "metadata": {},
   "source": [
    "### we can see that we have an imbalanced data as 74% of the total customers churned while 26% did not churn. this implies that we have to balance our data before training the model"
   ]
  },
  {
   "cell_type": "markdown",
   "metadata": {},
   "source": [
    "### Analysis of total charges"
   ]
  },
  {
   "cell_type": "code",
   "execution_count": 76,
   "metadata": {},
   "outputs": [
    {
     "data": {
      "image/png": "[encoded data removed]",
      "text/plain": [
       "<Figure size 700x600 with 1 Axes>"
      ]
     },
     "metadata": {},
     "output_type": "display_data"
    }
   ],
   "source": [
    "#Visualization of frequency distribution of total charges column\n",
    "\n",
    "plt.figure(figsize=(7,6))\n",
    "plt.hist(df_train['TotalCharges'], bins=15, color='b', edgecolor='black')\n",
    "plt.xlabel('Total Charges')\n",
    "plt.ylabel('Frequency')\n",
    "plt.title('Distribution of Total Charges')\n",
    "plt.show()"
   ]
  },
  {
   "cell_type": "markdown",
   "metadata": {},
   "source": [
    "### The distribution plot shows in detail the skewness of the total charges attribute of the dataset and it indicates a positively skewed distribution."
   ]
  },
  {
   "cell_type": "markdown",
   "metadata": {},
   "source": [
    "### Analysis of Gender Attribute"
   ]
  },
  {
   "cell_type": "code",
   "execution_count": 77,
   "metadata": {},
   "outputs": [
    {
     "data": {
      "image/png": "[encoded data removed]",
      "text/plain": [
       "<Figure size 640x480 with 1 Axes>"
      ]
     },
     "metadata": {},
     "output_type": "display_data"
    }
   ],
   "source": [
    "#Plot of Gender Distribution\n",
    "sns.countplot(x=df_train['gender'])\n",
    "plt.xlabel('Gender')\n",
    "plt.ylabel('Frequency')\n",
    "plt.title('Distribution of Gender')\n",
    "plt.show()"
   ]
  },
  {
   "cell_type": "markdown",
   "metadata": {},
   "source": [
    "### Gender distribution is almost even, with Males exceeding females by a very small margin"
   ]
  },
  {
   "cell_type": "markdown",
   "metadata": {},
   "source": [
    "### Analysis of payment method"
   ]
  },
  {
   "cell_type": "code",
   "execution_count": 78,
   "metadata": {},
   "outputs": [
    {
     "data": {
      "text/plain": [
       "PaymentMethod\n",
       "Mailed check                 1063\n",
       "Credit card (automatic)      1085\n",
       "Bank transfer (automatic)    1115\n",
       "Electronic check             1665\n",
       "Name: count, dtype: int64"
      ]
     },
     "execution_count": 78,
     "metadata": {},
     "output_type": "execute_result"
    }
   ],
   "source": [
    "# Visualization of Payment Method column\n",
    "\n",
    "PaymentMethod_Count = df_train['PaymentMethod'].value_counts().sort_values(ascending=True)\n",
    "PaymentMethod_Count"
   ]
  },
  {
   "cell_type": "code",
   "execution_count": 79,
   "metadata": {},
   "outputs": [
    {
     "data": {
      "image/png": "[encoded data removed]",
      "text/plain": [
       "<Figure size 640x480 with 1 Axes>"
      ]
     },
     "metadata": {},
     "output_type": "display_data"
    }
   ],
   "source": [
    "#Use of horizontal bar plot for visualization\n",
    "c = ['blue', 'orange','red','green']\n",
    "plt.barh(PaymentMethod_Count.index, PaymentMethod_Count.values, color = c)\n",
    "plt.xlabel('Frequency')\n",
    "plt.ylabel('Method')\n",
    "plt.title('Distribution of Payment Method')\n",
    "plt.yticks(rotation=0)\n",
    "plt.show();"
   ]
  },
  {
   "cell_type": "markdown",
   "metadata": {},
   "source": [
    "### Visualization shows us that majority of the customers preffered Electronic Check as a method of payment."
   ]
  },
  {
   "cell_type": "markdown",
   "metadata": {},
   "source": [
    "### Analysis of internet service"
   ]
  },
  {
   "cell_type": "code",
   "execution_count": 80,
   "metadata": {},
   "outputs": [
    {
     "data": {
      "text/plain": [
       "InternetService\n",
       "No Internet Service    1019\n",
       "DSL                    1686\n",
       "Fiber optic            2223\n",
       "Name: count, dtype: int64"
      ]
     },
     "execution_count": 80,
     "metadata": {},
     "output_type": "execute_result"
    }
   ],
   "source": [
    "# now lets have a look at the distribution of internet service providers\n",
    "df_train['InternetService'].replace('No', 'No Internet Service', inplace=True)\n",
    "InternetService_Count = df_train['InternetService'].value_counts().sort_values(ascending=True)\n",
    "InternetService_Count "
   ]
  },
  {
   "cell_type": "code",
   "execution_count": 81,
   "metadata": {},
   "outputs": [
    {
     "data": {
      "image/png": "[encoded data removed]",
      "text/plain": [
       "<Figure size 500x500 with 1 Axes>"
      ]
     },
     "metadata": {},
     "output_type": "display_data"
    }
   ],
   "source": [
    "#Plotting a pie chart to visualize the internet service providers\n",
    "plt.figure(figsize=(5, 5))\n",
    "plt.pie(InternetService_Count, labels=InternetService_Count.index, autopct='%1.1f%%')\n",
    "plt.title('Distribution of Internet Service Providers')\n",
    "plt.show();"
   ]
  },
  {
   "cell_type": "markdown",
   "metadata": {},
   "source": [
    "### Majority of customer's preffered Fibre optic for internet service provision"
   ]
  },
  {
   "cell_type": "markdown",
   "metadata": {},
   "source": [
    "## Bivariate Analysis"
   ]
  },
  {
   "cell_type": "markdown",
   "metadata": {},
   "source": [
    "### 1. How does gender impact customer churn? Are there significant differences in churn rates between male and female   customers?"
   ]
  },
  {
   "cell_type": "markdown",
   "metadata": {},
   "source": []
  },
  {
   "cell_type": "code",
   "execution_count": 82,
   "metadata": {},
   "outputs": [
    {
     "name": "stdout",
     "output_type": "stream",
     "text": [
      "gender\n",
      "Female    26.065574\n",
      "Male      25.884244\n",
      "Name: Churn_rate, dtype: float64\n"
     ]
    }
   ],
   "source": [
    "# first lets group our data by gender and churn\n",
    "grouped=pd.crosstab(df_train['gender'],df_train.Churn)\n",
    "grouped['Churn_rate']=(grouped['Yes']/ (grouped['Yes'] + grouped['No']))*100\n",
    "print(grouped['Churn_rate'])\n"
   ]
  },
  {
   "cell_type": "code",
   "execution_count": 83,
   "metadata": {},
   "outputs": [
    {
     "data": {
      "image/png": "[encoded data removed]",
      "text/plain": [
       "<Figure size 600x400 with 1 Axes>"
      ]
     },
     "metadata": {},
     "output_type": "display_data"
    }
   ],
   "source": [
    "# Plotting 'gender' against churn rate\n",
    "plt.figure(figsize=(6, 4))\n",
    "plt.bar(grouped.index, grouped['Churn_rate'])\n",
    "plt.xlabel('Gender')\n",
    "plt.ylabel('Churn Rate (%)')\n",
    "plt.title('Churn Rate by Gender')\n",
    "plt.show()"
   ]
  },
  {
   "cell_type": "markdown",
   "metadata": {},
   "source": [
    "### From the visualization we can see that there is no significant differences in churn rates between male and female   customers where 25.9% male churned while 26.1% female churned."
   ]
  },
  {
   "cell_type": "markdown",
   "metadata": {},
   "source": [
    "### 2. Does the presence of a partner or dependents influence customer churn? Is there a relationship between marital status and churn behavior?"
   ]
  },
  {
   "cell_type": "code",
   "execution_count": 84,
   "metadata": {},
   "outputs": [
    {
     "name": "stdout",
     "output_type": "stream",
     "text": [
      "Churn      No  Yes  Churn_rate\n",
      "Partner                       \n",
      "No       1698  794   31.861958\n",
      "Yes      1950  486   19.950739\n",
      "Churn         No   Yes  Churn_rate\n",
      "Dependents                        \n",
      "No          2344  1054   31.018246\n",
      "Yes         1304   226   14.771242\n"
     ]
    }
   ],
   "source": [
    "# first lets group our data by partner and churn\n",
    "grouped=pd.crosstab(df_train['Partner'],df_train.Churn)\n",
    "grouped['Churn_rate']=(grouped['Yes']/ (grouped['Yes'] + grouped['No']))*100\n",
    "print(grouped)\n",
    "\n",
    "# lets group our data by dependents and churn\n",
    "grouped2=pd.crosstab(df_train['Dependents'],df_train.Churn)\n",
    "grouped2['Churn_rate']=(grouped2['Yes']/ (grouped2['Yes'] + grouped2['No']))*100\n",
    "print(grouped2)"
   ]
  },
  {
   "cell_type": "code",
   "execution_count": 85,
   "metadata": {},
   "outputs": [
    {
     "data": {
      "image/png": "[encoded data removed]",
      "text/plain": [
       "<Figure size 1200x500 with 2 Axes>"
      ]
     },
     "metadata": {},
     "output_type": "display_data"
    }
   ],
   "source": [
    "# Create a figure with two subplots (one row, two columns)\n",
    "fig, axes = plt.subplots(1, 2, figsize=(12, 5))\n",
    "\n",
    "# Plotting 'Partner' against churn rate\n",
    "axes[0].bar(grouped.index, grouped['Churn_rate'])\n",
    "axes[0].set_xlabel('Partner')\n",
    "axes[0].set_ylabel('Churn Rate (%)')\n",
    "axes[0].set_title('Churn Rate by Partner')\n",
    "\n",
    "# Plotting 'Dependents' against churn rate\n",
    "axes[1].bar(grouped2.index, grouped2['Churn_rate'])\n",
    "axes[1].set_xlabel('Dependents')\n",
    "axes[1].set_ylabel('Churn Rate (%)')\n",
    "axes[1].set_title('Churn Rate by Dependents')\n",
    "\n",
    "# Adjust the layout to avoid overlapping labels\n",
    "plt.tight_layout()\n",
    "\n",
    "# Show the plot\n",
    "plt.show()\n"
   ]
  },
  {
   "cell_type": "markdown",
   "metadata": {},
   "source": [
    "### From the visualizations we can see that the presence of a partner or dependents do not influence customer churn as those without partners churned more compared to with partners. similarly, those without dependants churned more compared to those with dependants. we can deduce that customers in a family set up tend to stay longer compared to those without."
   ]
  },
  {
   "cell_type": "markdown",
   "metadata": {},
   "source": [
    "### 3. How does the length of tenure affect churn rates? Are customers with longer tenures less likely to churn compared to new customers?"
   ]
  },
  {
   "cell_type": "code",
   "execution_count": 86,
   "metadata": {},
   "outputs": [
    {
     "name": "stdout",
     "output_type": "stream",
     "text": [
      "Churn           No  Yes  Churn_rate\n",
      "tenure_group                       \n",
      "0-12 months    690  648   48.430493\n",
      "13-24 months   532  230   30.183727\n",
      "25-36 months   496  132   21.019108\n",
      "37-48 months   436  107   19.705341\n",
      "49-60 months   491   88   15.198618\n",
      "61+ months    1003   75    6.957328\n"
     ]
    }
   ],
   "source": [
    "# first lets group our data by tenure group and churn\n",
    "grouped3=pd.crosstab(df_train['tenure_group'],df_train.Churn)\n",
    "grouped3['Churn_rate']=(grouped3['Yes']/ (grouped3['Yes'] + grouped3['No']))*100\n",
    "print(grouped3)"
   ]
  },
  {
   "cell_type": "code",
   "execution_count": 87,
   "metadata": {},
   "outputs": [
    {
     "data": {
      "image/png": "[encoded data removed]",
      "text/plain": [
       "<Figure size 800x600 with 1 Axes>"
      ]
     },
     "metadata": {},
     "output_type": "display_data"
    }
   ],
   "source": [
    "# Plotting churn rate against 'tenure_group'\n",
    "plt.figure(figsize=(8, 6))\n",
    "sns.lineplot(data=grouped3, x=grouped3.index, y='Churn_rate', marker='o', linestyle='-', color='b')\n",
    "plt.xlabel('Tenure Group')\n",
    "plt.ylabel('Churn Rate (%)')\n",
    "plt.title('Churn Rate by Tenure Group')\n",
    "plt.grid(True)\n",
    "plt.xticks(rotation=45, ha='right')  # Rotating x-axis labels for better readability\n",
    "plt.tight_layout()\n",
    "plt.show()"
   ]
  },
  {
   "cell_type": "markdown",
   "metadata": {},
   "source": [
    "### What role do additional services (e.g., online security, tech support, streaming TV, etc.) play in reducing customer churn? Are customers with more services less likely to churn?"
   ]
  },
  {
   "cell_type": "code",
   "execution_count": 88,
   "metadata": {},
   "outputs": [
    {
     "name": "stdout",
     "output_type": "stream",
     "text": [
      "Churn                                                                                  No  \\\n",
      "OnlineSecurity OnlineBackup DeviceProtection TechSupport StreamingTV StreamingMovies        \n",
      "No             No           No               No          No          No               214   \n",
      "                                                                     Yes              636   \n",
      "                                                         Yes         No                49   \n",
      "                                                                     Yes               57   \n",
      "                                             Yes         No          No                55   \n",
      "...                                                                                   ...   \n",
      "Yes            Yes          Yes              No          Yes         Yes               58   \n",
      "                                             Yes         No          No                53   \n",
      "                                                                     Yes               40   \n",
      "                                                         Yes         No                33   \n",
      "                                                                     Yes              183   \n",
      "\n",
      "Churn                                                                                 Yes  \\\n",
      "OnlineSecurity OnlineBackup DeviceProtection TechSupport StreamingTV StreamingMovies        \n",
      "No             No           No               No          No          No               221   \n",
      "                                                                     Yes              123   \n",
      "                                                         Yes         No                69   \n",
      "                                                                     Yes              101   \n",
      "                                             Yes         No          No                17   \n",
      "...                                                                                   ...   \n",
      "Yes            Yes          Yes              No          Yes         Yes               10   \n",
      "                                             Yes         No          No                 2   \n",
      "                                                                     Yes                4   \n",
      "                                                         Yes         No                 2   \n",
      "                                                                     Yes                9   \n",
      "\n",
      "Churn                                                                                 Churn_rate  \n",
      "OnlineSecurity OnlineBackup DeviceProtection TechSupport StreamingTV StreamingMovies              \n",
      "No             No           No               No          No          No                50.804598  \n",
      "                                                                     Yes               16.205534  \n",
      "                                                         Yes         No                58.474576  \n",
      "                                                                     Yes               63.924051  \n",
      "                                             Yes         No          No                23.611111  \n",
      "...                                                                                          ...  \n",
      "Yes            Yes          Yes              No          Yes         Yes               14.705882  \n",
      "                                             Yes         No          No                 3.636364  \n",
      "                                                                     Yes                9.090909  \n",
      "                                                         Yes         No                 5.714286  \n",
      "                                                                     Yes                4.687500  \n",
      "\n",
      "[65 rows x 3 columns]\n"
     ]
    }
   ],
   "source": [
    "grouped8 = pd.crosstab(index=[df_train['OnlineSecurity'], df_train['OnlineBackup'], df_train['DeviceProtection'], df_train['TechSupport'], df_train['StreamingTV'], df_train['StreamingMovies']], columns=df_train['Churn'])\n",
    "grouped8['Churn_rate']=(grouped8['Yes']/ (grouped8['Yes'] + grouped8['No']))*100\n",
    "print(grouped8)"
   ]
  },
  {
   "cell_type": "code",
   "execution_count": 89,
   "metadata": {},
   "outputs": [
    {
     "data": {
      "image/png": "[encoded data removed]",
      "text/plain": [
       "<Figure size 1500x1000 with 6 Axes>"
      ]
     },
     "metadata": {},
     "output_type": "display_data"
    }
   ],
   "source": [
    "# lets visual the additional services and their churn status\n",
    "grouped8 = grouped8.reset_index()  # Resetting index for better data handling\n",
    "\n",
    "# Melt the dataframe for better visualization\n",
    "melted_grouped8 = pd.melt(grouped8, id_vars=['OnlineSecurity', 'OnlineBackup', 'DeviceProtection', 'TechSupport', 'StreamingTV', 'StreamingMovies', 'Churn_rate'], var_name='Churn')\n",
    "\n",
    "# List of categories to loop through and create stacked bar plots\n",
    "categories = ['OnlineSecurity', 'OnlineBackup', 'DeviceProtection', 'TechSupport', 'StreamingTV', 'StreamingMovies']\n",
    "\n",
    "# Create a 2x3 grid for plots\n",
    "fig, axes = plt.subplots(nrows=2, ncols=3, figsize=(15, 10))\n",
    "plt.subplots_adjust(wspace=0.3, hspace=0.5)  # Adjust spacing between plots\n",
    "\n",
    "# Loop through categories and create stacked bar plots in the grid\n",
    "for idx, category in enumerate(categories):\n",
    "    ax_row = idx // 3\n",
    "    ax_col = idx % 3\n",
    "    ax = axes[ax_row, ax_col]\n",
    "\n",
    "    sorted_melted_grouped8 = melted_grouped8[melted_grouped8[category] != 'No internet service']\n",
    "    sorted_melted_grouped8 = sorted_melted_grouped8.sort_values(by='Churn_rate', ascending=False)\n",
    "\n",
    "    # Pivot the data to prepare for stacked bar plot\n",
    "    pivot_table = sorted_melted_grouped8.pivot_table(index=category, columns='Churn', values='value', aggfunc='sum')\n",
    "\n",
    "    pivot_table.plot(kind='bar', stacked=True, ax=ax)\n",
    "    ax.set_xlabel(category)\n",
    "    ax.set_ylabel('Count')\n",
    "    ax.set_title(f'Plot for {category} and Churn Status')\n",
    "    ax.legend(title='Churn', loc='upper right')\n",
    "\n",
    "# Display the plots\n",
    "plt.tight_layout()\n",
    "plt.show()\n"
   ]
  },
  {
   "cell_type": "markdown",
   "metadata": {},
   "source": [
    "### From the visualization we can see that most customers do not have access to the additional services. however, additional services play a siginificant role in reducing customer churn. we can see that customers with additional services are less likely to churn considering the rate of churn. the rate of churn for customers without additional is about 1/3 compared to the rate of churn for customers with additional services which is about 1/5. Hence, we conclude that the company should ensure that their customers have access to additional services to reduce churn."
   ]
  },
  {
   "cell_type": "markdown",
   "metadata": {},
   "source": [
    "### 5. Is there a correlation between the contract term (month-to-month, one year, two years) and churn rates? Are customers on long-term contracts less likely to churn compared to those on month-to-month contracts?"
   ]
  },
  {
   "cell_type": "code",
   "execution_count": 90,
   "metadata": {},
   "outputs": [
    {
     "name": "stdout",
     "output_type": "stream",
     "text": [
      "Churn             No   Yes  Churn_rate\n",
      "Contract                              \n",
      "Month-to-month  1513  1128   42.711094\n",
      "One year         929   122   11.607992\n",
      "Two year        1206    30    2.427184\n"
     ]
    }
   ],
   "source": [
    "# first lets group our data by contract term and churn\n",
    "grouped9=pd.crosstab(df_train['Contract'],df_train.Churn)\n",
    "grouped9['Churn_rate']=(grouped9['Yes']/ (grouped9['Yes'] + grouped9['No']))*100\n",
    "print(grouped9)\n"
   ]
  },
  {
   "cell_type": "code",
   "execution_count": 91,
   "metadata": {},
   "outputs": [
    {
     "data": {
      "image/png": "[encoded data removed]",
      "text/plain": [
       "<Figure size 800x600 with 1 Axes>"
      ]
     },
     "metadata": {},
     "output_type": "display_data"
    }
   ],
   "source": [
    "# Plotting churn rate against 'contract'\n",
    "plt.figure(figsize=(8, 6))\n",
    "sns.lineplot(data=grouped9, x=grouped9.index, y='Churn_rate', marker='o', linestyle='-', color='b')\n",
    "plt.xlabel('Contract Term')\n",
    "plt.ylabel('Churn Rate (%)')\n",
    "plt.title('Churn Rate by Contract Term')\n",
    "plt.grid(True)\n",
    "plt.xticks(rotation=45, ha='right')  # Rotating x-axis labels for better readability\n",
    "plt.tight_layout()\n",
    "plt.show()"
   ]
  },
  {
   "cell_type": "markdown",
   "metadata": {},
   "source": [
    "### From the visualization we can see that customers on long-term contracts are less likely to churn compared to those on month-to-month contracts. Thus the company should make their long term contracts attractive to customers to encourage them to sign up for one year or two year contracts."
   ]
  },
  {
   "cell_type": "markdown",
   "metadata": {},
   "source": [
    "## multivariate analysis"
   ]
  },
  {
   "cell_type": "code",
   "execution_count": 92,
   "metadata": {},
   "outputs": [
    {
     "data": {
      "text/plain": [
       "Index(['gender', 'SeniorCitizen', 'Partner', 'Dependents', 'tenure',\n",
       "       'PhoneService', 'MultipleLines', 'InternetService', 'OnlineSecurity',\n",
       "       'OnlineBackup', 'DeviceProtection', 'TechSupport', 'StreamingTV',\n",
       "       'StreamingMovies', 'Contract', 'PaperlessBilling', 'PaymentMethod',\n",
       "       'MonthlyCharges', 'TotalCharges', 'Churn', 'tenure_group'],\n",
       "      dtype='object')"
      ]
     },
     "execution_count": 92,
     "metadata": {},
     "output_type": "execute_result"
    }
   ],
   "source": [
    "df_train.columns"
   ]
  },
  {
   "cell_type": "code",
   "execution_count": 93,
   "metadata": {},
   "outputs": [
    {
     "data": {
      "text/plain": [
       "<Axes: >"
      ]
     },
     "execution_count": 93,
     "metadata": {},
     "output_type": "execute_result"
    },
    {
     "data": {
      "image/png": "[encoded data removed]",
      "text/plain": [
       "<Figure size 1000x800 with 2 Axes>"
      ]
     },
     "metadata": {},
     "output_type": "display_data"
    }
   ],
   "source": [
    "# now lets look at the relationship between numeric columns\n",
    "# select numeric columns\n",
    "df1=df_train.drop(['gender', 'SeniorCitizen', 'Partner', 'Dependents','PhoneService', 'MultipleLines', 'InternetService', 'OnlineSecurity','OnlineBackup', 'DeviceProtection', 'TechSupport', 'StreamingTV','StreamingMovies', 'Contract', 'PaperlessBilling', 'PaymentMethod','Churn', 'tenure_group'], axis=1)\n",
    "df1.columns\n",
    "\n",
    "correlation = df1.corr()\n",
    "f, ax = plt.subplots(figsize = (10,8))\n",
    "sns.heatmap(correlation, annot = True,cmap='icefire_r')"
   ]
  },
  {
   "cell_type": "code",
   "execution_count": 94,
   "metadata": {},
   "outputs": [
    {
     "data": {
      "text/plain": [
       "tenure            1.000000\n",
       "TotalCharges      0.822079\n",
       "MonthlyCharges    0.222030\n",
       "Name: tenure, dtype: float64"
      ]
     },
     "execution_count": 94,
     "metadata": {},
     "output_type": "execute_result"
    }
   ],
   "source": [
    "# performing feature selection\n",
    "coff=abs(correlation['tenure'])\n",
    "coff=coff[coff>0.02]\n",
    "coff.sort_values(ascending=False)"
   ]
  },
  {
   "cell_type": "markdown",
   "metadata": {},
   "source": [
    "### we can see that the number of months the customer has stayed with the company(tenure) has high correlation of 0.82 with the total amount charged to the customer(TotalCharges) compared to the amount charged to the customer monthly(MonthlyCharges). Hence, the tenure period of a customers is determined by long term charges compared to monthly charges"
   ]
  },
  {
   "cell_type": "markdown",
   "metadata": {},
   "source": [
    "### Hypothesis Testing"
   ]
  },
  {
   "cell_type": "code",
   "execution_count": 95,
   "metadata": {},
   "outputs": [
    {
     "data": {
      "text/html": [
       "<div>\n",
       "<style scoped>\n",
       "    .dataframe tbody tr th:only-of-type {\n",
       "        vertical-align: middle;\n",
       "    }\n",
       "\n",
       "    .dataframe tbody tr th {\n",
       "        vertical-align: top;\n",
       "    }\n",
       "\n",
       "    .dataframe thead th {\n",
       "        text-align: right;\n",
       "    }\n",
       "</style>\n",
       "<table border=\"1\" class=\"dataframe\">\n",
       "  <thead>\n",
       "    <tr style=\"text-align: right;\">\n",
       "      <th>Churn</th>\n",
       "      <th>No</th>\n",
       "      <th>Yes</th>\n",
       "    </tr>\n",
       "    <tr>\n",
       "      <th>Contract</th>\n",
       "      <th></th>\n",
       "      <th></th>\n",
       "    </tr>\n",
       "  </thead>\n",
       "  <tbody>\n",
       "    <tr>\n",
       "      <th>Month-to-month</th>\n",
       "      <td>1513</td>\n",
       "      <td>1128</td>\n",
       "    </tr>\n",
       "    <tr>\n",
       "      <th>One year</th>\n",
       "      <td>929</td>\n",
       "      <td>122</td>\n",
       "    </tr>\n",
       "    <tr>\n",
       "      <th>Two year</th>\n",
       "      <td>1206</td>\n",
       "      <td>30</td>\n",
       "    </tr>\n",
       "  </tbody>\n",
       "</table>\n",
       "</div>"
      ],
      "text/plain": [
       "Churn             No   Yes\n",
       "Contract                  \n",
       "Month-to-month  1513  1128\n",
       "One year         929   122\n",
       "Two year        1206    30"
      ]
     },
     "execution_count": 95,
     "metadata": {},
     "output_type": "execute_result"
    }
   ],
   "source": [
    "gc=pd.crosstab(df_train.Contract,df_train.Churn)\n",
    "gc"
   ]
  },
  {
   "cell_type": "code",
   "execution_count": 96,
   "metadata": {},
   "outputs": [
    {
     "name": "stdout",
     "output_type": "stream",
     "text": [
      "level of significance=0.05,p_value=0.00,chi_2=854.00\n"
     ]
    }
   ],
   "source": [
    "chi_2,p_value,gol,frequency=chi2_contingency(gc,correction=False)\n",
    "alpha=0.05\n",
    "print('level of significance=%.2f,p_value=%.2f,chi_2=%.2f'%(alpha,p_value,chi_2))"
   ]
  },
  {
   "cell_type": "markdown",
   "metadata": {},
   "source": [
    "### Since the p-value is less than alpha, we reject Ho and conclude that is there is a statistical significance association between Churn and Contract."
   ]
  },
  {
   "cell_type": "markdown",
   "metadata": {},
   "source": [
    "## Modelling"
   ]
  }
 ],
 "metadata": {
  "kernelspec": {
   "display_name": "Python 3 (ipykernel)",
   "language": "python",
   "name": "python3"
  },
  "language_info": {
   "codemirror_mode": {
    "name": "ipython",
    "version": 3
   },
   "file_extension": ".py",
   "mimetype": "text/x-python",
   "name": "python",
   "nbconvert_exporter": "python",
   "pygments_lexer": "ipython3",
   "version": "3.11.2"
  }
 },
 "nbformat": 4,
 "nbformat_minor": 2
}
